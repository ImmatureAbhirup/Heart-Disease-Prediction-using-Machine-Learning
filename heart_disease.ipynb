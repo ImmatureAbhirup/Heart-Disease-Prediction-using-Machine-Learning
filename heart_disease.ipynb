{
  "nbformat": 4,
  "nbformat_minor": 0,
  "metadata": {
    "kernelspec": {
      "language": "python",
      "display_name": "Python 3",
      "name": "python3"
    },
    "language_info": {
      "name": "python",
      "version": "3.7.10",
      "mimetype": "text/x-python",
      "codemirror_mode": {
        "name": "ipython",
        "version": 3
      },
      "pygments_lexer": "ipython3",
      "nbconvert_exporter": "python",
      "file_extension": ".py"
    },
    "colab": {
      "name": "heart-disease.ipynb",
      "provenance": [],
      "collapsed_sections": [
        "rEhf7nNu-zFU",
        "rHbeS39c-zFl",
        "MXuQRUca-zFp",
        "fnTn3WEB-zFr",
        "0zNMcZ2D-zFu",
        "Y0q5lq0e-zFw",
        "Txp7QGOF-zFy"
      ],
      "include_colab_link": true
    }
  },
  "cells": [
    {
      "cell_type": "markdown",
      "metadata": {
        "id": "view-in-github",
        "colab_type": "text"
      },
      "source": [
        "<a href=\"https://colab.research.google.com/github/ImmatureAbhirup/Heart-Disease-Prediction-using-Machine-Learning/blob/main/heart_disease.ipynb\" target=\"_parent\"><img src=\"https://colab.research.google.com/assets/colab-badge.svg\" alt=\"Open In Colab\"/></a>"
      ]
    },
    {
      "cell_type": "markdown",
      "metadata": {
        "id": "bNHsil-sF-6E"
      },
      "source": [
        "**This notebook was created for predicting the 'Heart Disease' of a person!**\n",
        "\n",
        "`Predicting Heart Disease Using Logistic Regression`\n",
        "\n",
        "[Link to Download the dataset](https://www.kaggle.com/ronitf/heart-disease-uci)\n",
        "\n",
        "**Date Created**: August 19, 2021\n",
        "\n",
        "\n",
        "**Author**:\n",
        "Abhirup Bhattacharjee \n",
        "\n",
        "**Reach out**:\n",
        " [Kaggle](https://www.kaggle.com/abhirup2000) | [LinkedIn](https://www.linkedin.com/in/abhirup-bhattacharjee-9aa676193?lipi=urn%3Ali%3Apage%3Ad_flagship3_profile_view_base_contact_details%3ByRSXOTi9TkCcTLx3X1l2Xw%3D%3D)\n",
        "\n",
        "[[Project Repository](https://github.com/ImmatureAbhirup/Heart-Disease-Prediction-using-Machine-Learning)]"
      ]
    },
    {
      "cell_type": "markdown",
      "metadata": {
        "id": "NM5t6ko4-zEt"
      },
      "source": [
        "Welcome everyone! Hope, you are enjoying your Data Science field! I guess that's why you are here! You are hungry to learn and build new projects! So without wasting more time, let's start.\n",
        "\n",
        "This is a Heart Disease Prediction projects where we have to predict a person's heart attack trendency! This project is under Medical Industry domain. But don't worry, you don't have to be a medical expert to do this projects. All you have to know is basic python, machine learning techniques.\n",
        "\n",
        "Let's go! Are you excited?"
      ]
    },
    {
      "cell_type": "markdown",
      "metadata": {
        "id": "9O8HItxg-5JA"
      },
      "source": [
        "### **Helping Hands**\n",
        "\n",
        "If you find any difficulty to understand this project, please reach out to me at any time! I will be there to help you!\n",
        "\n",
        " - Abhirup Bhattacharjee : [Linkedin](https://www.linkedin.com/in/abhirup-bhattacharjee-9aa676193?lipi=urn%3Ali%3Apage%3Ad_flagship3_profile_view_base_contact_details%3ByRSXOTi9TkCcTLx3X1l2Xw%3D%3D)\n",
        "\n",
        "`You can message me via Linkedin!`\n",
        "\n",
        "Or, You can directly reach out to my mail,\n",
        "\n",
        "`Here is my mail` :\n",
        "\n",
        "iammature.business@gmail.com\n",
        "\n",
        "\n",
        "\n"
      ]
    },
    {
      "cell_type": "markdown",
      "metadata": {
        "id": "20kSdWeo-zE1"
      },
      "source": [
        "## Create data dictionary\n",
        "\n",
        "**age** - age in years\n",
        "\n",
        "**sex** - (1 = male; 0 = female)\n",
        "\n",
        "**cp** - chest pain type\n",
        "- 0: Typical angina: chest pain related decrease blood supply to the heart\n",
        "- 1: Atypical angina: chest pain not related to heart\n",
        "- 2: Non-anginal pain: typically esophageal spasms (non heart related)\n",
        "- 3: Asymptomatic: chest pain not showing signs of disease\n",
        "\n",
        "**trestbps** - resting blood pressure (in mm Hg on admission to the hospital) anything above 130-140 is typically cause for concern\n",
        "\n",
        "**chol** - serum cholestoral in mg/dl\n",
        "\n",
        "**serum** = LDL + HDL + .2 * triglycerides above 200 is cause for concern\n",
        "\n",
        "**fbs** - (fasting blood sugar > 120 mg/dl) (1 = true; 0 = false)\n",
        "\n",
        "- **'>126' mg/dL signals diabetes**\n",
        "\n",
        "**restecg** - resting electrocardiographic results\n",
        "- 0: Nothing to note\n",
        "- 1: ST-T Wave abnormality can range from mild symptoms to severe problems signals non-normal heart beat\n",
        "- 2: Possible or definite left ventricular hypertrophy Enlarged heart's main pumping chamber\n",
        "\n",
        "**thalach** - maximum heart rate achieved\n",
        "\n",
        "**exang** - exercise induced angina (1 = yes; 0 = no)\n",
        "\n",
        "**oldpeak** - ST depression induced by exercise relative to rest looks at stress of heart during excercise unhealthy heart will stress more\n",
        "\n",
        "**slope** - the slope of the peak exercise ST segment\n",
        "- 0: Upsloping: better heart rate with excercise (uncommon)\n",
        "- 1: Flatsloping: minimal change (typical healthy heart)\n",
        "- 2: Downslopins: signs of unhealthy heart\n",
        "\n",
        "**ca** - number of major vessels (0-3) colored by flourosopy\n",
        "colored vessel means the doctor can see the blood passing through\n",
        "the more blood movement the better (no clots)\n",
        "\n",
        "**thal** - thalium stress result\n",
        "\n",
        "- 1,3: normal\n",
        "- 6: fixed defect: used to be defect but ok now\n",
        "- 7: reversable defect: no proper blood movement when excercising\n",
        "\n",
        "**target** - have disease or not (1=yes, 0=no) (= the predicted attribute)"
      ]
    },
    {
      "cell_type": "markdown",
      "metadata": {
        "id": "RSc-xF-O-zE6"
      },
      "source": [
        "### **Importing Library**"
      ]
    },
    {
      "cell_type": "code",
      "metadata": {
        "execution": {
          "iopub.status.busy": "2021-08-19T05:43:11.317307Z",
          "iopub.execute_input": "2021-08-19T05:43:11.317777Z",
          "iopub.status.idle": "2021-08-19T05:43:11.833488Z",
          "shell.execute_reply.started": "2021-08-19T05:43:11.317686Z",
          "shell.execute_reply": "2021-08-19T05:43:11.832222Z"
        },
        "trusted": true,
        "id": "ri_jGFum-zE8"
      },
      "source": [
        "import numpy as np\n",
        "import pandas as pd\n",
        "import matplotlib.pyplot as plt\n",
        "import seaborn as sns\n",
        "import sklearn\n",
        "%matplotlib inline"
      ],
      "execution_count": 63,
      "outputs": []
    },
    {
      "cell_type": "markdown",
      "metadata": {
        "id": "QVgLZUNw-zE-"
      },
      "source": [
        "### **Importing Dataset**"
      ]
    },
    {
      "cell_type": "code",
      "metadata": {
        "id": "iVen4OZwojf5",
        "execution": {
          "iopub.status.busy": "2021-08-19T05:43:11.835020Z",
          "iopub.execute_input": "2021-08-19T05:43:11.835337Z",
          "iopub.status.idle": "2021-08-19T05:43:11.864563Z",
          "shell.execute_reply.started": "2021-08-19T05:43:11.835308Z",
          "shell.execute_reply": "2021-08-19T05:43:11.863633Z"
        },
        "trusted": true,
        "colab": {
          "base_uri": "https://localhost:8080/",
          "height": 206
        },
        "outputId": "f02c1088-b8f0-4c0d-a478-6804e01934a3"
      },
      "source": [
        "data = pd.read_csv(\"https://raw.githubusercontent.com/ImmatureAbhirup/Heart-Disease-Prediction-using-Machine-Learning/main/heart.csv\")\n",
        "data.head()"
      ],
      "execution_count": 64,
      "outputs": [
        {
          "output_type": "execute_result",
          "data": {
            "text/html": [
              "<div>\n",
              "<style scoped>\n",
              "    .dataframe tbody tr th:only-of-type {\n",
              "        vertical-align: middle;\n",
              "    }\n",
              "\n",
              "    .dataframe tbody tr th {\n",
              "        vertical-align: top;\n",
              "    }\n",
              "\n",
              "    .dataframe thead th {\n",
              "        text-align: right;\n",
              "    }\n",
              "</style>\n",
              "<table border=\"1\" class=\"dataframe\">\n",
              "  <thead>\n",
              "    <tr style=\"text-align: right;\">\n",
              "      <th></th>\n",
              "      <th>age</th>\n",
              "      <th>sex</th>\n",
              "      <th>cp</th>\n",
              "      <th>trestbps</th>\n",
              "      <th>chol</th>\n",
              "      <th>fbs</th>\n",
              "      <th>restecg</th>\n",
              "      <th>thalach</th>\n",
              "      <th>exang</th>\n",
              "      <th>oldpeak</th>\n",
              "      <th>slope</th>\n",
              "      <th>ca</th>\n",
              "      <th>thal</th>\n",
              "      <th>target</th>\n",
              "    </tr>\n",
              "  </thead>\n",
              "  <tbody>\n",
              "    <tr>\n",
              "      <th>0</th>\n",
              "      <td>63</td>\n",
              "      <td>1</td>\n",
              "      <td>3</td>\n",
              "      <td>145</td>\n",
              "      <td>233</td>\n",
              "      <td>1</td>\n",
              "      <td>0</td>\n",
              "      <td>150</td>\n",
              "      <td>0</td>\n",
              "      <td>2.3</td>\n",
              "      <td>0</td>\n",
              "      <td>0</td>\n",
              "      <td>1</td>\n",
              "      <td>1</td>\n",
              "    </tr>\n",
              "    <tr>\n",
              "      <th>1</th>\n",
              "      <td>37</td>\n",
              "      <td>1</td>\n",
              "      <td>2</td>\n",
              "      <td>130</td>\n",
              "      <td>250</td>\n",
              "      <td>0</td>\n",
              "      <td>1</td>\n",
              "      <td>187</td>\n",
              "      <td>0</td>\n",
              "      <td>3.5</td>\n",
              "      <td>0</td>\n",
              "      <td>0</td>\n",
              "      <td>2</td>\n",
              "      <td>1</td>\n",
              "    </tr>\n",
              "    <tr>\n",
              "      <th>2</th>\n",
              "      <td>41</td>\n",
              "      <td>0</td>\n",
              "      <td>1</td>\n",
              "      <td>130</td>\n",
              "      <td>204</td>\n",
              "      <td>0</td>\n",
              "      <td>0</td>\n",
              "      <td>172</td>\n",
              "      <td>0</td>\n",
              "      <td>1.4</td>\n",
              "      <td>2</td>\n",
              "      <td>0</td>\n",
              "      <td>2</td>\n",
              "      <td>1</td>\n",
              "    </tr>\n",
              "    <tr>\n",
              "      <th>3</th>\n",
              "      <td>56</td>\n",
              "      <td>1</td>\n",
              "      <td>1</td>\n",
              "      <td>120</td>\n",
              "      <td>236</td>\n",
              "      <td>0</td>\n",
              "      <td>1</td>\n",
              "      <td>178</td>\n",
              "      <td>0</td>\n",
              "      <td>0.8</td>\n",
              "      <td>2</td>\n",
              "      <td>0</td>\n",
              "      <td>2</td>\n",
              "      <td>1</td>\n",
              "    </tr>\n",
              "    <tr>\n",
              "      <th>4</th>\n",
              "      <td>57</td>\n",
              "      <td>0</td>\n",
              "      <td>0</td>\n",
              "      <td>120</td>\n",
              "      <td>354</td>\n",
              "      <td>0</td>\n",
              "      <td>1</td>\n",
              "      <td>163</td>\n",
              "      <td>1</td>\n",
              "      <td>0.6</td>\n",
              "      <td>2</td>\n",
              "      <td>0</td>\n",
              "      <td>2</td>\n",
              "      <td>1</td>\n",
              "    </tr>\n",
              "  </tbody>\n",
              "</table>\n",
              "</div>"
            ],
            "text/plain": [
              "   age  sex  cp  trestbps  chol  fbs  ...  exang  oldpeak  slope  ca  thal  target\n",
              "0   63    1   3       145   233    1  ...      0      2.3      0   0     1       1\n",
              "1   37    1   2       130   250    0  ...      0      3.5      0   0     2       1\n",
              "2   41    0   1       130   204    0  ...      0      1.4      2   0     2       1\n",
              "3   56    1   1       120   236    0  ...      0      0.8      2   0     2       1\n",
              "4   57    0   0       120   354    0  ...      1      0.6      2   0     2       1\n",
              "\n",
              "[5 rows x 14 columns]"
            ]
          },
          "metadata": {},
          "execution_count": 64
        }
      ]
    },
    {
      "cell_type": "code",
      "metadata": {
        "id": "0IWHLYqRqlAO",
        "execution": {
          "iopub.status.busy": "2021-08-19T05:43:11.866447Z",
          "iopub.execute_input": "2021-08-19T05:43:11.866736Z",
          "iopub.status.idle": "2021-08-19T05:43:11.873077Z",
          "shell.execute_reply.started": "2021-08-19T05:43:11.866707Z",
          "shell.execute_reply": "2021-08-19T05:43:11.872156Z"
        },
        "trusted": true,
        "colab": {
          "base_uri": "https://localhost:8080/"
        },
        "outputId": "8b00c43b-5a12-46bc-d08d-d05079bd29c7"
      },
      "source": [
        "data.shape "
      ],
      "execution_count": 65,
      "outputs": [
        {
          "output_type": "execute_result",
          "data": {
            "text/plain": [
              "(303, 14)"
            ]
          },
          "metadata": {},
          "execution_count": 65
        }
      ]
    },
    {
      "cell_type": "markdown",
      "metadata": {
        "id": "DNa1R2Vt-zFG"
      },
      "source": [
        "- Our dataset has 303 rows and 14 columns"
      ]
    },
    {
      "cell_type": "code",
      "metadata": {
        "id": "9Kq9G_YVozhr",
        "execution": {
          "iopub.status.busy": "2021-08-19T05:43:11.874602Z",
          "iopub.execute_input": "2021-08-19T05:43:11.874935Z",
          "iopub.status.idle": "2021-08-19T05:43:11.894693Z",
          "shell.execute_reply.started": "2021-08-19T05:43:11.874907Z",
          "shell.execute_reply": "2021-08-19T05:43:11.893771Z"
        },
        "trusted": true,
        "colab": {
          "base_uri": "https://localhost:8080/"
        },
        "outputId": "60f23dda-2af9-41d3-bf47-5df69a90ae0a"
      },
      "source": [
        "data.info()"
      ],
      "execution_count": 66,
      "outputs": [
        {
          "output_type": "stream",
          "text": [
            "<class 'pandas.core.frame.DataFrame'>\n",
            "RangeIndex: 303 entries, 0 to 302\n",
            "Data columns (total 14 columns):\n",
            " #   Column    Non-Null Count  Dtype  \n",
            "---  ------    --------------  -----  \n",
            " 0   age       303 non-null    int64  \n",
            " 1   sex       303 non-null    int64  \n",
            " 2   cp        303 non-null    int64  \n",
            " 3   trestbps  303 non-null    int64  \n",
            " 4   chol      303 non-null    int64  \n",
            " 5   fbs       303 non-null    int64  \n",
            " 6   restecg   303 non-null    int64  \n",
            " 7   thalach   303 non-null    int64  \n",
            " 8   exang     303 non-null    int64  \n",
            " 9   oldpeak   303 non-null    float64\n",
            " 10  slope     303 non-null    int64  \n",
            " 11  ca        303 non-null    int64  \n",
            " 12  thal      303 non-null    int64  \n",
            " 13  target    303 non-null    int64  \n",
            "dtypes: float64(1), int64(13)\n",
            "memory usage: 33.3 KB\n"
          ],
          "name": "stdout"
        }
      ]
    },
    {
      "cell_type": "code",
      "metadata": {
        "id": "xoLEBzAltOkH",
        "execution": {
          "iopub.status.busy": "2021-08-19T05:43:11.895957Z",
          "iopub.execute_input": "2021-08-19T05:43:11.896317Z",
          "iopub.status.idle": "2021-08-19T05:43:11.908777Z",
          "shell.execute_reply.started": "2021-08-19T05:43:11.896288Z",
          "shell.execute_reply": "2021-08-19T05:43:11.907447Z"
        },
        "trusted": true,
        "colab": {
          "base_uri": "https://localhost:8080/"
        },
        "outputId": "bb855cfd-7554-43d9-f9cd-00266e09d80e"
      },
      "source": [
        "#checking for missing value if any\n",
        "\n",
        "data.isna().sum()"
      ],
      "execution_count": 67,
      "outputs": [
        {
          "output_type": "execute_result",
          "data": {
            "text/plain": [
              "age         0\n",
              "sex         0\n",
              "cp          0\n",
              "trestbps    0\n",
              "chol        0\n",
              "fbs         0\n",
              "restecg     0\n",
              "thalach     0\n",
              "exang       0\n",
              "oldpeak     0\n",
              "slope       0\n",
              "ca          0\n",
              "thal        0\n",
              "target      0\n",
              "dtype: int64"
            ]
          },
          "metadata": {},
          "execution_count": 67
        }
      ]
    },
    {
      "cell_type": "markdown",
      "metadata": {
        "id": "ByFj1X0j-zFM"
      },
      "source": [
        "- We don't have any null values presenst in our dataset. So it's a quite perfect dataset to use. "
      ]
    },
    {
      "cell_type": "markdown",
      "metadata": {
        "id": "S05zdjFK-zFN"
      },
      "source": [
        "### **Statistics** "
      ]
    },
    {
      "cell_type": "code",
      "metadata": {
        "execution": {
          "iopub.status.busy": "2021-08-19T05:43:11.909979Z",
          "iopub.execute_input": "2021-08-19T05:43:11.910411Z",
          "iopub.status.idle": "2021-08-19T05:43:11.967067Z",
          "shell.execute_reply.started": "2021-08-19T05:43:11.910381Z",
          "shell.execute_reply": "2021-08-19T05:43:11.966069Z"
        },
        "trusted": true,
        "colab": {
          "base_uri": "https://localhost:8080/",
          "height": 320
        },
        "id": "HbSjkHBs-zFO",
        "outputId": "5b14b57a-3e8a-4bbf-d456-2093078123c3"
      },
      "source": [
        "data.describe()"
      ],
      "execution_count": 68,
      "outputs": [
        {
          "output_type": "execute_result",
          "data": {
            "text/html": [
              "<div>\n",
              "<style scoped>\n",
              "    .dataframe tbody tr th:only-of-type {\n",
              "        vertical-align: middle;\n",
              "    }\n",
              "\n",
              "    .dataframe tbody tr th {\n",
              "        vertical-align: top;\n",
              "    }\n",
              "\n",
              "    .dataframe thead th {\n",
              "        text-align: right;\n",
              "    }\n",
              "</style>\n",
              "<table border=\"1\" class=\"dataframe\">\n",
              "  <thead>\n",
              "    <tr style=\"text-align: right;\">\n",
              "      <th></th>\n",
              "      <th>age</th>\n",
              "      <th>sex</th>\n",
              "      <th>cp</th>\n",
              "      <th>trestbps</th>\n",
              "      <th>chol</th>\n",
              "      <th>fbs</th>\n",
              "      <th>restecg</th>\n",
              "      <th>thalach</th>\n",
              "      <th>exang</th>\n",
              "      <th>oldpeak</th>\n",
              "      <th>slope</th>\n",
              "      <th>ca</th>\n",
              "      <th>thal</th>\n",
              "      <th>target</th>\n",
              "    </tr>\n",
              "  </thead>\n",
              "  <tbody>\n",
              "    <tr>\n",
              "      <th>count</th>\n",
              "      <td>303.000000</td>\n",
              "      <td>303.000000</td>\n",
              "      <td>303.000000</td>\n",
              "      <td>303.000000</td>\n",
              "      <td>303.000000</td>\n",
              "      <td>303.000000</td>\n",
              "      <td>303.000000</td>\n",
              "      <td>303.000000</td>\n",
              "      <td>303.000000</td>\n",
              "      <td>303.000000</td>\n",
              "      <td>303.000000</td>\n",
              "      <td>303.000000</td>\n",
              "      <td>303.000000</td>\n",
              "      <td>303.000000</td>\n",
              "    </tr>\n",
              "    <tr>\n",
              "      <th>mean</th>\n",
              "      <td>54.366337</td>\n",
              "      <td>0.683168</td>\n",
              "      <td>0.966997</td>\n",
              "      <td>131.623762</td>\n",
              "      <td>246.264026</td>\n",
              "      <td>0.148515</td>\n",
              "      <td>0.528053</td>\n",
              "      <td>149.646865</td>\n",
              "      <td>0.326733</td>\n",
              "      <td>1.039604</td>\n",
              "      <td>1.399340</td>\n",
              "      <td>0.729373</td>\n",
              "      <td>2.313531</td>\n",
              "      <td>0.544554</td>\n",
              "    </tr>\n",
              "    <tr>\n",
              "      <th>std</th>\n",
              "      <td>9.082101</td>\n",
              "      <td>0.466011</td>\n",
              "      <td>1.032052</td>\n",
              "      <td>17.538143</td>\n",
              "      <td>51.830751</td>\n",
              "      <td>0.356198</td>\n",
              "      <td>0.525860</td>\n",
              "      <td>22.905161</td>\n",
              "      <td>0.469794</td>\n",
              "      <td>1.161075</td>\n",
              "      <td>0.616226</td>\n",
              "      <td>1.022606</td>\n",
              "      <td>0.612277</td>\n",
              "      <td>0.498835</td>\n",
              "    </tr>\n",
              "    <tr>\n",
              "      <th>min</th>\n",
              "      <td>29.000000</td>\n",
              "      <td>0.000000</td>\n",
              "      <td>0.000000</td>\n",
              "      <td>94.000000</td>\n",
              "      <td>126.000000</td>\n",
              "      <td>0.000000</td>\n",
              "      <td>0.000000</td>\n",
              "      <td>71.000000</td>\n",
              "      <td>0.000000</td>\n",
              "      <td>0.000000</td>\n",
              "      <td>0.000000</td>\n",
              "      <td>0.000000</td>\n",
              "      <td>0.000000</td>\n",
              "      <td>0.000000</td>\n",
              "    </tr>\n",
              "    <tr>\n",
              "      <th>25%</th>\n",
              "      <td>47.500000</td>\n",
              "      <td>0.000000</td>\n",
              "      <td>0.000000</td>\n",
              "      <td>120.000000</td>\n",
              "      <td>211.000000</td>\n",
              "      <td>0.000000</td>\n",
              "      <td>0.000000</td>\n",
              "      <td>133.500000</td>\n",
              "      <td>0.000000</td>\n",
              "      <td>0.000000</td>\n",
              "      <td>1.000000</td>\n",
              "      <td>0.000000</td>\n",
              "      <td>2.000000</td>\n",
              "      <td>0.000000</td>\n",
              "    </tr>\n",
              "    <tr>\n",
              "      <th>50%</th>\n",
              "      <td>55.000000</td>\n",
              "      <td>1.000000</td>\n",
              "      <td>1.000000</td>\n",
              "      <td>130.000000</td>\n",
              "      <td>240.000000</td>\n",
              "      <td>0.000000</td>\n",
              "      <td>1.000000</td>\n",
              "      <td>153.000000</td>\n",
              "      <td>0.000000</td>\n",
              "      <td>0.800000</td>\n",
              "      <td>1.000000</td>\n",
              "      <td>0.000000</td>\n",
              "      <td>2.000000</td>\n",
              "      <td>1.000000</td>\n",
              "    </tr>\n",
              "    <tr>\n",
              "      <th>75%</th>\n",
              "      <td>61.000000</td>\n",
              "      <td>1.000000</td>\n",
              "      <td>2.000000</td>\n",
              "      <td>140.000000</td>\n",
              "      <td>274.500000</td>\n",
              "      <td>0.000000</td>\n",
              "      <td>1.000000</td>\n",
              "      <td>166.000000</td>\n",
              "      <td>1.000000</td>\n",
              "      <td>1.600000</td>\n",
              "      <td>2.000000</td>\n",
              "      <td>1.000000</td>\n",
              "      <td>3.000000</td>\n",
              "      <td>1.000000</td>\n",
              "    </tr>\n",
              "    <tr>\n",
              "      <th>max</th>\n",
              "      <td>77.000000</td>\n",
              "      <td>1.000000</td>\n",
              "      <td>3.000000</td>\n",
              "      <td>200.000000</td>\n",
              "      <td>564.000000</td>\n",
              "      <td>1.000000</td>\n",
              "      <td>2.000000</td>\n",
              "      <td>202.000000</td>\n",
              "      <td>1.000000</td>\n",
              "      <td>6.200000</td>\n",
              "      <td>2.000000</td>\n",
              "      <td>4.000000</td>\n",
              "      <td>3.000000</td>\n",
              "      <td>1.000000</td>\n",
              "    </tr>\n",
              "  </tbody>\n",
              "</table>\n",
              "</div>"
            ],
            "text/plain": [
              "              age         sex          cp  ...          ca        thal      target\n",
              "count  303.000000  303.000000  303.000000  ...  303.000000  303.000000  303.000000\n",
              "mean    54.366337    0.683168    0.966997  ...    0.729373    2.313531    0.544554\n",
              "std      9.082101    0.466011    1.032052  ...    1.022606    0.612277    0.498835\n",
              "min     29.000000    0.000000    0.000000  ...    0.000000    0.000000    0.000000\n",
              "25%     47.500000    0.000000    0.000000  ...    0.000000    2.000000    0.000000\n",
              "50%     55.000000    1.000000    1.000000  ...    0.000000    2.000000    1.000000\n",
              "75%     61.000000    1.000000    2.000000  ...    1.000000    3.000000    1.000000\n",
              "max     77.000000    1.000000    3.000000  ...    4.000000    3.000000    1.000000\n",
              "\n",
              "[8 rows x 14 columns]"
            ]
          },
          "metadata": {},
          "execution_count": 68
        }
      ]
    },
    {
      "cell_type": "markdown",
      "metadata": {
        "id": "5Ro-gbm2-zFQ"
      },
      "source": [
        "### **Identifying Categorical & Continuous Columns**"
      ]
    },
    {
      "cell_type": "code",
      "metadata": {
        "id": "zAy7vnUCvGC3",
        "scrolled": true,
        "execution": {
          "iopub.status.busy": "2021-08-19T05:43:11.968577Z",
          "iopub.execute_input": "2021-08-19T05:43:11.968920Z",
          "iopub.status.idle": "2021-08-19T05:43:11.986219Z",
          "shell.execute_reply.started": "2021-08-19T05:43:11.968882Z",
          "shell.execute_reply": "2021-08-19T05:43:11.985408Z"
        },
        "trusted": true,
        "colab": {
          "base_uri": "https://localhost:8080/"
        },
        "outputId": "3ed58783-9ca5-4629-d32c-5937269533f7"
      },
      "source": [
        "categorical_column = []\n",
        "continuous_column = []\n",
        "\n",
        "for column in data.columns:\n",
        "  print(\"====================\")\n",
        "  print(f\"{column} : {data[column].unique()}\")\n",
        "  if len(data[column].unique())<=6:\n",
        "    categorical_column.append(column)\n",
        "  else:\n",
        "    continuous_column.append(column)\n"
      ],
      "execution_count": 69,
      "outputs": [
        {
          "output_type": "stream",
          "text": [
            "====================\n",
            "age : [63 37 41 56 57 44 52 54 48 49 64 58 50 66 43 69 59 42 61 40 71 51 65 53\n",
            " 46 45 39 47 62 34 35 29 55 60 67 68 74 76 70 38 77]\n",
            "====================\n",
            "sex : [1 0]\n",
            "====================\n",
            "cp : [3 2 1 0]\n",
            "====================\n",
            "trestbps : [145 130 120 140 172 150 110 135 160 105 125 142 155 104 138 128 108 134\n",
            " 122 115 118 100 124  94 112 102 152 101 132 148 178 129 180 136 126 106\n",
            " 156 170 146 117 200 165 174 192 144 123 154 114 164]\n",
            "====================\n",
            "chol : [233 250 204 236 354 192 294 263 199 168 239 275 266 211 283 219 340 226\n",
            " 247 234 243 302 212 175 417 197 198 177 273 213 304 232 269 360 308 245\n",
            " 208 264 321 325 235 257 216 256 231 141 252 201 222 260 182 303 265 309\n",
            " 186 203 183 220 209 258 227 261 221 205 240 318 298 564 277 214 248 255\n",
            " 207 223 288 160 394 315 246 244 270 195 196 254 126 313 262 215 193 271\n",
            " 268 267 210 295 306 178 242 180 228 149 278 253 342 157 286 229 284 224\n",
            " 206 167 230 335 276 353 225 330 290 172 305 188 282 185 326 274 164 307\n",
            " 249 341 407 217 174 281 289 322 299 300 293 184 409 259 200 327 237 218\n",
            " 319 166 311 169 187 176 241 131]\n",
            "====================\n",
            "fbs : [1 0]\n",
            "====================\n",
            "restecg : [0 1 2]\n",
            "====================\n",
            "thalach : [150 187 172 178 163 148 153 173 162 174 160 139 171 144 158 114 151 161\n",
            " 179 137 157 123 152 168 140 188 125 170 165 142 180 143 182 156 115 149\n",
            " 146 175 186 185 159 130 190 132 147 154 202 166 164 184 122 169 138 111\n",
            " 145 194 131 133 155 167 192 121  96 126 105 181 116 108 129 120 112 128\n",
            " 109 113  99 177 141 136  97 127 103 124  88 195 106  95 117  71 118 134\n",
            "  90]\n",
            "====================\n",
            "exang : [0 1]\n",
            "====================\n",
            "oldpeak : [2.3 3.5 1.4 0.8 0.6 0.4 1.3 0.  0.5 1.6 1.2 0.2 1.8 1.  2.6 1.5 3.  2.4\n",
            " 0.1 1.9 4.2 1.1 2.  0.7 0.3 0.9 3.6 3.1 3.2 2.5 2.2 2.8 3.4 6.2 4.  5.6\n",
            " 2.9 2.1 3.8 4.4]\n",
            "====================\n",
            "slope : [0 2 1]\n",
            "====================\n",
            "ca : [0 2 1 3 4]\n",
            "====================\n",
            "thal : [1 2 3 0]\n",
            "====================\n",
            "target : [1 0]\n"
          ],
          "name": "stdout"
        }
      ]
    },
    {
      "cell_type": "code",
      "metadata": {
        "execution": {
          "iopub.status.busy": "2021-08-19T05:43:11.988526Z",
          "iopub.execute_input": "2021-08-19T05:43:11.988808Z",
          "iopub.status.idle": "2021-08-19T05:43:11.994164Z",
          "shell.execute_reply.started": "2021-08-19T05:43:11.988782Z",
          "shell.execute_reply": "2021-08-19T05:43:11.993143Z"
        },
        "trusted": true,
        "colab": {
          "base_uri": "https://localhost:8080/"
        },
        "id": "6JohABNk-zFT",
        "outputId": "45a8f135-7982-44e0-8715-69d25167220c"
      },
      "source": [
        "print(f'categorical columns are : {categorical_column}')\n",
        "print(f'continous_columns are : {continuous_column}')"
      ],
      "execution_count": 70,
      "outputs": [
        {
          "output_type": "stream",
          "text": [
            "categorical columns are : ['sex', 'cp', 'fbs', 'restecg', 'exang', 'slope', 'ca', 'thal', 'target']\n",
            "continous_columns are : ['age', 'trestbps', 'chol', 'thalach', 'oldpeak']\n"
          ],
          "name": "stdout"
        }
      ]
    },
    {
      "cell_type": "markdown",
      "metadata": {
        "id": "rEhf7nNu-zFU"
      },
      "source": [
        "### **Creating new columns**"
      ]
    },
    {
      "cell_type": "markdown",
      "metadata": {
        "id": "wM02wKPX-zFU"
      },
      "source": [
        "**Let's give label according to the Target Label and Sex Label for better understanding purpose** :"
      ]
    },
    {
      "cell_type": "code",
      "metadata": {
        "execution": {
          "iopub.status.busy": "2021-08-19T05:43:11.995843Z",
          "iopub.execute_input": "2021-08-19T05:43:11.996276Z",
          "iopub.status.idle": "2021-08-19T05:43:12.022810Z",
          "shell.execute_reply.started": "2021-08-19T05:43:11.996248Z",
          "shell.execute_reply": "2021-08-19T05:43:12.021940Z"
        },
        "trusted": true,
        "colab": {
          "base_uri": "https://localhost:8080/",
          "height": 206
        },
        "id": "STrO6uaq-zFV",
        "outputId": "6dc27d9c-c9c9-444b-951a-ce433c51b3b0"
      },
      "source": [
        "data[\"Heart_Disease\"] = data[\"target\"].map({0:\"No\",1:\"Yes\"})\n",
        "data[\"gender\"] = data[\"sex\"].map({0:\"Female\",1:\"Male\"})\n",
        "data.head()"
      ],
      "execution_count": 71,
      "outputs": [
        {
          "output_type": "execute_result",
          "data": {
            "text/html": [
              "<div>\n",
              "<style scoped>\n",
              "    .dataframe tbody tr th:only-of-type {\n",
              "        vertical-align: middle;\n",
              "    }\n",
              "\n",
              "    .dataframe tbody tr th {\n",
              "        vertical-align: top;\n",
              "    }\n",
              "\n",
              "    .dataframe thead th {\n",
              "        text-align: right;\n",
              "    }\n",
              "</style>\n",
              "<table border=\"1\" class=\"dataframe\">\n",
              "  <thead>\n",
              "    <tr style=\"text-align: right;\">\n",
              "      <th></th>\n",
              "      <th>age</th>\n",
              "      <th>sex</th>\n",
              "      <th>cp</th>\n",
              "      <th>trestbps</th>\n",
              "      <th>chol</th>\n",
              "      <th>fbs</th>\n",
              "      <th>restecg</th>\n",
              "      <th>thalach</th>\n",
              "      <th>exang</th>\n",
              "      <th>oldpeak</th>\n",
              "      <th>slope</th>\n",
              "      <th>ca</th>\n",
              "      <th>thal</th>\n",
              "      <th>target</th>\n",
              "      <th>Heart_Disease</th>\n",
              "      <th>gender</th>\n",
              "    </tr>\n",
              "  </thead>\n",
              "  <tbody>\n",
              "    <tr>\n",
              "      <th>0</th>\n",
              "      <td>63</td>\n",
              "      <td>1</td>\n",
              "      <td>3</td>\n",
              "      <td>145</td>\n",
              "      <td>233</td>\n",
              "      <td>1</td>\n",
              "      <td>0</td>\n",
              "      <td>150</td>\n",
              "      <td>0</td>\n",
              "      <td>2.3</td>\n",
              "      <td>0</td>\n",
              "      <td>0</td>\n",
              "      <td>1</td>\n",
              "      <td>1</td>\n",
              "      <td>Yes</td>\n",
              "      <td>Male</td>\n",
              "    </tr>\n",
              "    <tr>\n",
              "      <th>1</th>\n",
              "      <td>37</td>\n",
              "      <td>1</td>\n",
              "      <td>2</td>\n",
              "      <td>130</td>\n",
              "      <td>250</td>\n",
              "      <td>0</td>\n",
              "      <td>1</td>\n",
              "      <td>187</td>\n",
              "      <td>0</td>\n",
              "      <td>3.5</td>\n",
              "      <td>0</td>\n",
              "      <td>0</td>\n",
              "      <td>2</td>\n",
              "      <td>1</td>\n",
              "      <td>Yes</td>\n",
              "      <td>Male</td>\n",
              "    </tr>\n",
              "    <tr>\n",
              "      <th>2</th>\n",
              "      <td>41</td>\n",
              "      <td>0</td>\n",
              "      <td>1</td>\n",
              "      <td>130</td>\n",
              "      <td>204</td>\n",
              "      <td>0</td>\n",
              "      <td>0</td>\n",
              "      <td>172</td>\n",
              "      <td>0</td>\n",
              "      <td>1.4</td>\n",
              "      <td>2</td>\n",
              "      <td>0</td>\n",
              "      <td>2</td>\n",
              "      <td>1</td>\n",
              "      <td>Yes</td>\n",
              "      <td>Female</td>\n",
              "    </tr>\n",
              "    <tr>\n",
              "      <th>3</th>\n",
              "      <td>56</td>\n",
              "      <td>1</td>\n",
              "      <td>1</td>\n",
              "      <td>120</td>\n",
              "      <td>236</td>\n",
              "      <td>0</td>\n",
              "      <td>1</td>\n",
              "      <td>178</td>\n",
              "      <td>0</td>\n",
              "      <td>0.8</td>\n",
              "      <td>2</td>\n",
              "      <td>0</td>\n",
              "      <td>2</td>\n",
              "      <td>1</td>\n",
              "      <td>Yes</td>\n",
              "      <td>Male</td>\n",
              "    </tr>\n",
              "    <tr>\n",
              "      <th>4</th>\n",
              "      <td>57</td>\n",
              "      <td>0</td>\n",
              "      <td>0</td>\n",
              "      <td>120</td>\n",
              "      <td>354</td>\n",
              "      <td>0</td>\n",
              "      <td>1</td>\n",
              "      <td>163</td>\n",
              "      <td>1</td>\n",
              "      <td>0.6</td>\n",
              "      <td>2</td>\n",
              "      <td>0</td>\n",
              "      <td>2</td>\n",
              "      <td>1</td>\n",
              "      <td>Yes</td>\n",
              "      <td>Female</td>\n",
              "    </tr>\n",
              "  </tbody>\n",
              "</table>\n",
              "</div>"
            ],
            "text/plain": [
              "   age  sex  cp  trestbps  chol  ...  ca  thal  target  Heart_Disease  gender\n",
              "0   63    1   3       145   233  ...   0     1       1            Yes    Male\n",
              "1   37    1   2       130   250  ...   0     2       1            Yes    Male\n",
              "2   41    0   1       130   204  ...   0     2       1            Yes  Female\n",
              "3   56    1   1       120   236  ...   0     2       1            Yes    Male\n",
              "4   57    0   0       120   354  ...   0     2       1            Yes  Female\n",
              "\n",
              "[5 rows x 16 columns]"
            ]
          },
          "metadata": {},
          "execution_count": 71
        }
      ]
    },
    {
      "cell_type": "markdown",
      "metadata": {
        "id": "BuCvYQZ--zFW"
      },
      "source": [
        "## **VISUALIZATION & EXPLORATORY DATA ANALYSIS :** "
      ]
    },
    {
      "cell_type": "markdown",
      "metadata": {
        "id": "13GzmXCg-zFX"
      },
      "source": [
        "**Now, Let's do some visualization on our dataset to do some exploratory data analysis** :"
      ]
    },
    {
      "cell_type": "markdown",
      "metadata": {
        "id": "WiuL-vcH-zFY"
      },
      "source": [
        "1. **Is our target label balanced? Let's check** :"
      ]
    },
    {
      "cell_type": "code",
      "metadata": {
        "id": "xSS8dUfjrRVG",
        "execution": {
          "iopub.status.busy": "2021-08-19T05:43:12.023957Z",
          "iopub.execute_input": "2021-08-19T05:43:12.024260Z",
          "iopub.status.idle": "2021-08-19T05:43:12.032514Z",
          "shell.execute_reply.started": "2021-08-19T05:43:12.024231Z",
          "shell.execute_reply": "2021-08-19T05:43:12.031652Z"
        },
        "trusted": true,
        "colab": {
          "base_uri": "https://localhost:8080/"
        },
        "outputId": "feec9ecd-a900-4289-e14d-adc155317011"
      },
      "source": [
        "Heart_Disease = data.Heart_Disease.value_counts()\n",
        "Heart_Disease.head()"
      ],
      "execution_count": 72,
      "outputs": [
        {
          "output_type": "execute_result",
          "data": {
            "text/plain": [
              "Yes    165\n",
              "No     138\n",
              "Name: Heart_Disease, dtype: int64"
            ]
          },
          "metadata": {},
          "execution_count": 72
        }
      ]
    },
    {
      "cell_type": "code",
      "metadata": {
        "execution": {
          "iopub.status.busy": "2021-08-19T05:43:12.033874Z",
          "iopub.execute_input": "2021-08-19T05:43:12.034237Z",
          "iopub.status.idle": "2021-08-19T05:43:12.194101Z",
          "shell.execute_reply.started": "2021-08-19T05:43:12.034207Z",
          "shell.execute_reply": "2021-08-19T05:43:12.193134Z"
        },
        "trusted": true,
        "colab": {
          "base_uri": "https://localhost:8080/",
          "height": 313
        },
        "id": "Qf494ZdH-zFa",
        "outputId": "67c54183-c1f4-40cf-f250-d9cc07f5fe0d"
      },
      "source": [
        "sns.countplot(x='Heart_Disease', data=data,palette=\"Set1\",edgecolor=sns.color_palette(\"dark\", 5)).set_title('Count plot for Heart_Disease')"
      ],
      "execution_count": 73,
      "outputs": [
        {
          "output_type": "execute_result",
          "data": {
            "text/plain": [
              "Text(0.5, 1.0, 'Count plot for Heart_Disease')"
            ]
          },
          "metadata": {},
          "execution_count": 73
        },
        {
          "output_type": "display_data",
          "data": {
            "image/png": "[encoded data removed]",
            "text/plain": [
              "<Figure size 432x288 with 1 Axes>"
            ]
          },
          "metadata": {
            "needs_background": "light"
          }
        }
      ]
    },
    {
      "cell_type": "markdown",
      "metadata": {
        "id": "_BXMMMdv-zFb"
      },
      "source": [
        "- We have 165 people with heart disease and 138 people with no heart disease. So, our dataset is balanced!  "
      ]
    },
    {
      "cell_type": "markdown",
      "metadata": {
        "id": "P1VMGKqM-zFb"
      },
      "source": [
        "2. **Let's do the same for Gender Column**"
      ]
    },
    {
      "cell_type": "code",
      "metadata": {
        "id": "Rukl9h5kxBzy",
        "execution": {
          "iopub.status.busy": "2021-08-19T05:43:12.195773Z",
          "iopub.execute_input": "2021-08-19T05:43:12.196072Z",
          "iopub.status.idle": "2021-08-19T05:43:12.204102Z",
          "shell.execute_reply.started": "2021-08-19T05:43:12.196041Z",
          "shell.execute_reply": "2021-08-19T05:43:12.203253Z"
        },
        "trusted": true,
        "colab": {
          "base_uri": "https://localhost:8080/"
        },
        "outputId": "d99c4688-5726-4737-dad9-297a955ad125"
      },
      "source": [
        "gender = data['gender'].value_counts()\n",
        "gender"
      ],
      "execution_count": 74,
      "outputs": [
        {
          "output_type": "execute_result",
          "data": {
            "text/plain": [
              "Male      207\n",
              "Female     96\n",
              "Name: gender, dtype: int64"
            ]
          },
          "metadata": {},
          "execution_count": 74
        }
      ]
    },
    {
      "cell_type": "markdown",
      "metadata": {
        "id": "WAjyRnd4-zFc"
      },
      "source": [
        "- We have 207 male and 96 female!"
      ]
    },
    {
      "cell_type": "markdown",
      "metadata": {
        "id": "v5NH9jdT-zFd"
      },
      "source": [
        "3. **Let's check how many male and female have heart disease? Also, check for non-heart disease people!** "
      ]
    },
    {
      "cell_type": "code",
      "metadata": {
        "id": "uNpp51ue09Wn",
        "execution": {
          "iopub.status.busy": "2021-08-19T05:43:12.205467Z",
          "iopub.execute_input": "2021-08-19T05:43:12.205747Z",
          "iopub.status.idle": "2021-08-19T05:43:12.218954Z",
          "shell.execute_reply.started": "2021-08-19T05:43:12.205720Z",
          "shell.execute_reply": "2021-08-19T05:43:12.217614Z"
        },
        "trusted": true,
        "colab": {
          "base_uri": "https://localhost:8080/"
        },
        "outputId": "f0975dca-02e7-4307-e252-2944c07ff6e7"
      },
      "source": [
        "data.groupby(['gender','Heart_Disease','fbs'])['Heart_Disease'].count()"
      ],
      "execution_count": 75,
      "outputs": [
        {
          "output_type": "execute_result",
          "data": {
            "text/plain": [
              "gender  Heart_Disease  fbs\n",
              "Female  No             0      18\n",
              "                       1       6\n",
              "        Yes            0      66\n",
              "                       1       6\n",
              "Male    No             0      98\n",
              "                       1      16\n",
              "        Yes            0      76\n",
              "                       1      17\n",
              "Name: Heart_Disease, dtype: int64"
            ]
          },
          "metadata": {},
          "execution_count": 75
        }
      ]
    },
    {
      "cell_type": "code",
      "metadata": {
        "id": "qLih2m6K1PoN",
        "scrolled": true,
        "execution": {
          "iopub.status.busy": "2021-08-19T05:43:12.220305Z",
          "iopub.execute_input": "2021-08-19T05:43:12.220632Z",
          "iopub.status.idle": "2021-08-19T05:43:12.532661Z",
          "shell.execute_reply.started": "2021-08-19T05:43:12.220580Z",
          "shell.execute_reply": "2021-08-19T05:43:12.531999Z"
        },
        "trusted": true,
        "colab": {
          "base_uri": "https://localhost:8080/",
          "height": 506
        },
        "outputId": "a26e58cf-6b47-49f7-e74e-7830f1ac3765"
      },
      "source": [
        "sns.factorplot('gender', hue='Heart_Disease', kind='count', data=data);\n",
        "plt.title('Factor plot for Male and Female and Heart_Disease')"
      ],
      "execution_count": 76,
      "outputs": [
        {
          "output_type": "stream",
          "text": [
            "/usr/local/lib/python3.7/dist-packages/seaborn/categorical.py:3714: UserWarning: The `factorplot` function has been renamed to `catplot`. The original name will be removed in a future release. Please update your code. Note that the default `kind` in `factorplot` (`'point'`) has changed `'strip'` in `catplot`.\n",
            "  warnings.warn(msg)\n",
            "/usr/local/lib/python3.7/dist-packages/seaborn/_decorators.py:43: FutureWarning: Pass the following variable as a keyword arg: x. From version 0.12, the only valid positional argument will be `data`, and passing other arguments without an explicit keyword will result in an error or misinterpretation.\n",
            "  FutureWarning\n"
          ],
          "name": "stderr"
        },
        {
          "output_type": "execute_result",
          "data": {
            "text/plain": [
              "Text(0.5, 1.0, 'Factor plot for Male and Female and Heart_Disease')"
            ]
          },
          "metadata": {},
          "execution_count": 76
        },
        {
          "output_type": "display_data",
          "data": {
            "image/png": "[encoded data removed]",
            "text/plain": [
              "<Figure size 440.25x360 with 1 Axes>"
            ]
          },
          "metadata": {
            "needs_background": "light"
          }
        }
      ]
    },
    {
      "cell_type": "code",
      "metadata": {
        "execution": {
          "iopub.status.busy": "2021-08-19T05:43:12.533915Z",
          "iopub.execute_input": "2021-08-19T05:43:12.534490Z",
          "iopub.status.idle": "2021-08-19T05:43:12.549820Z",
          "shell.execute_reply.started": "2021-08-19T05:43:12.534445Z",
          "shell.execute_reply": "2021-08-19T05:43:12.548725Z"
        },
        "trusted": true,
        "colab": {
          "base_uri": "https://localhost:8080/"
        },
        "id": "IrrfbC5J-zFf",
        "outputId": "5f69ff95-0ab7-4440-a678-77af688ad542"
      },
      "source": [
        "print(f\"Female's heart disease : {round(data[data.sex == 0]['target'].sum()/data[data.sex == 0]['target'].count()*100)}%\")\n",
        "print(f\"Male's heart disease : {round(data[data.sex == 1]['target'].sum()/data[data.sex == 1]['target'].count()*100)}%\")"
      ],
      "execution_count": 77,
      "outputs": [
        {
          "output_type": "stream",
          "text": [
            "Female's heart disease : 75%\n",
            "Male's heart disease : 45%\n"
          ],
          "name": "stdout"
        }
      ]
    },
    {
      "cell_type": "markdown",
      "metadata": {
        "id": "0e4VAnM--zFg"
      },
      "source": [
        "**So, 75 % Female has heart disease and 45% male has heart disease!**\n",
        "\n",
        "**For female, this is really considerable situation which should be took care!**"
      ]
    },
    {
      "cell_type": "markdown",
      "metadata": {
        "id": "O6BNcLX3-zFi"
      },
      "source": [
        "### **CP (Chest Pain)**\n",
        "\n",
        "- **0: Typical angina: chest pain related decrease blood supply to the heart**\n",
        "- **1: Atypical angina: chest pain not related to heart**\n",
        "- **2: Non-anginal pain: typically esophageal spasms (non heart related)**\n",
        "- **3: Asymptomatic: chest pain not showing signs of disease**"
      ]
    },
    {
      "cell_type": "code",
      "metadata": {
        "execution": {
          "iopub.status.busy": "2021-08-19T05:43:12.552352Z",
          "iopub.execute_input": "2021-08-19T05:43:12.552750Z",
          "iopub.status.idle": "2021-08-19T05:43:12.559643Z",
          "shell.execute_reply.started": "2021-08-19T05:43:12.552721Z",
          "shell.execute_reply": "2021-08-19T05:43:12.558773Z"
        },
        "trusted": true,
        "colab": {
          "base_uri": "https://localhost:8080/"
        },
        "id": "y7siGQvq-zFi",
        "outputId": "0999aed6-2169-4feb-ecb3-f8fddd0e6613"
      },
      "source": [
        "cp = data['cp'].value_counts()\n",
        "cp"
      ],
      "execution_count": 78,
      "outputs": [
        {
          "output_type": "execute_result",
          "data": {
            "text/plain": [
              "0    143\n",
              "2     87\n",
              "1     50\n",
              "3     23\n",
              "Name: cp, dtype: int64"
            ]
          },
          "metadata": {},
          "execution_count": 78
        }
      ]
    },
    {
      "cell_type": "code",
      "metadata": {
        "execution": {
          "iopub.status.busy": "2021-08-19T05:43:12.560752Z",
          "iopub.execute_input": "2021-08-19T05:43:12.561042Z",
          "iopub.status.idle": "2021-08-19T05:43:12.870211Z",
          "shell.execute_reply.started": "2021-08-19T05:43:12.561006Z",
          "shell.execute_reply": "2021-08-19T05:43:12.869251Z"
        },
        "trusted": true,
        "colab": {
          "base_uri": "https://localhost:8080/",
          "height": 489
        },
        "id": "hOhyPg4C-zFj",
        "outputId": "1061abb9-8c4d-49dd-be57-59821e1a137b"
      },
      "source": [
        "sns.factorplot('cp', hue='Heart_Disease', kind='count', data=data);\n",
        "plt.title('Factor plot for cp and Heart_Disease')\n",
        "plt.show()"
      ],
      "execution_count": 79,
      "outputs": [
        {
          "output_type": "stream",
          "text": [
            "/usr/local/lib/python3.7/dist-packages/seaborn/categorical.py:3714: UserWarning: The `factorplot` function has been renamed to `catplot`. The original name will be removed in a future release. Please update your code. Note that the default `kind` in `factorplot` (`'point'`) has changed `'strip'` in `catplot`.\n",
            "  warnings.warn(msg)\n",
            "/usr/local/lib/python3.7/dist-packages/seaborn/_decorators.py:43: FutureWarning: Pass the following variable as a keyword arg: x. From version 0.12, the only valid positional argument will be `data`, and passing other arguments without an explicit keyword will result in an error or misinterpretation.\n",
            "  FutureWarning\n"
          ],
          "name": "stderr"
        },
        {
          "output_type": "display_data",
          "data": {
            "image/png": "[encoded data removed]",
            "text/plain": [
              "<Figure size 440.25x360 with 1 Axes>"
            ]
          },
          "metadata": {
            "needs_background": "light"
          }
        }
      ]
    },
    {
      "cell_type": "code",
      "metadata": {
        "execution": {
          "iopub.status.busy": "2021-08-19T05:43:12.871726Z",
          "iopub.execute_input": "2021-08-19T05:43:12.872273Z",
          "iopub.status.idle": "2021-08-19T05:43:12.886630Z",
          "shell.execute_reply.started": "2021-08-19T05:43:12.872232Z",
          "shell.execute_reply": "2021-08-19T05:43:12.885553Z"
        },
        "trusted": true,
        "colab": {
          "base_uri": "https://localhost:8080/"
        },
        "id": "B7BSXNVD-zFk",
        "outputId": "e97f5ea7-c12f-4b00-a968-2b6d12c94f10"
      },
      "source": [
        "print(f\"CP value 0 heart disease : {round(data[data.cp == 0]['target'].sum()/data[data.cp == 0]['target'].count()*100)}%\")\n",
        "print(f\"CP value 1 heart disease: {round(data[data.cp == 1]['target'].sum()/data[data.cp == 1]['target'].count()*100)}%\")\n",
        "print(f\"CP value 2 heart disease : {round(data[data.cp == 2]['target'].sum()/data[data.cp == 2]['target'].count()*100)}%\")\n",
        "print(f\"CP value 3 heart disease: {round(data[data.cp == 3]['target'].sum()/data[data.cp == 3]['target'].count()*100)}%\")\n",
        "\n"
      ],
      "execution_count": 80,
      "outputs": [
        {
          "output_type": "stream",
          "text": [
            "CP value 0 heart disease : 27%\n",
            "CP value 1 heart disease: 82%\n",
            "CP value 2 heart disease : 79%\n",
            "CP value 3 heart disease: 70%\n"
          ],
          "name": "stdout"
        }
      ]
    },
    {
      "cell_type": "markdown",
      "metadata": {
        "id": "VhgRLrFb-zFk"
      },
      "source": [
        "- **People with CP(Chest pain) value 0 has less heart disease than people with CP value 1,2,3!**"
      ]
    },
    {
      "cell_type": "markdown",
      "metadata": {
        "id": "rHbeS39c-zFl"
      },
      "source": [
        "### **restecg(resting electrocardiographic results)** :\n",
        "\n",
        "- **0: Nothing to note**\n",
        "- **1: ST-T Wave abnormality can range from mild symptoms to severe problems signals non-normal heart beat**\n",
        "- **2: Possible or definite left ventricular hypertrophy. Enlarged heart's main pumping chamber**"
      ]
    },
    {
      "cell_type": "code",
      "metadata": {
        "execution": {
          "iopub.status.busy": "2021-08-19T05:43:12.888453Z",
          "iopub.execute_input": "2021-08-19T05:43:12.888895Z",
          "iopub.status.idle": "2021-08-19T05:43:12.899676Z",
          "shell.execute_reply.started": "2021-08-19T05:43:12.888852Z",
          "shell.execute_reply": "2021-08-19T05:43:12.898839Z"
        },
        "trusted": true,
        "colab": {
          "base_uri": "https://localhost:8080/"
        },
        "id": "P_QdYkTj-zFm",
        "outputId": "2b35377f-daeb-4518-8f0d-c06ef3d9db33"
      },
      "source": [
        "restecg = data['restecg'].value_counts()\n",
        "restecg"
      ],
      "execution_count": 81,
      "outputs": [
        {
          "output_type": "execute_result",
          "data": {
            "text/plain": [
              "1    152\n",
              "0    147\n",
              "2      4\n",
              "Name: restecg, dtype: int64"
            ]
          },
          "metadata": {},
          "execution_count": 81
        }
      ]
    },
    {
      "cell_type": "code",
      "metadata": {
        "execution": {
          "iopub.status.busy": "2021-08-19T05:43:12.900781Z",
          "iopub.execute_input": "2021-08-19T05:43:12.901098Z",
          "iopub.status.idle": "2021-08-19T05:43:12.910434Z",
          "shell.execute_reply.started": "2021-08-19T05:43:12.901062Z",
          "shell.execute_reply": "2021-08-19T05:43:12.909714Z"
        },
        "trusted": true,
        "colab": {
          "base_uri": "https://localhost:8080/"
        },
        "id": "VtwTYqzI-zFn",
        "outputId": "cff3ec07-a5a3-4a32-9224-a6198681fd1f"
      },
      "source": [
        "data.groupby(['restecg','Heart_Disease'])['Heart_Disease'].count()"
      ],
      "execution_count": 82,
      "outputs": [
        {
          "output_type": "execute_result",
          "data": {
            "text/plain": [
              "restecg  Heart_Disease\n",
              "0        No               79\n",
              "         Yes              68\n",
              "1        No               56\n",
              "         Yes              96\n",
              "2        No                3\n",
              "         Yes               1\n",
              "Name: Heart_Disease, dtype: int64"
            ]
          },
          "metadata": {},
          "execution_count": 82
        }
      ]
    },
    {
      "cell_type": "code",
      "metadata": {
        "execution": {
          "iopub.status.busy": "2021-08-19T05:43:12.911383Z",
          "iopub.execute_input": "2021-08-19T05:43:12.911752Z",
          "iopub.status.idle": "2021-08-19T05:43:12.924439Z",
          "shell.execute_reply.started": "2021-08-19T05:43:12.911725Z",
          "shell.execute_reply": "2021-08-19T05:43:12.923523Z"
        },
        "trusted": true,
        "colab": {
          "base_uri": "https://localhost:8080/"
        },
        "id": "A6dr5OkP-zFo",
        "outputId": "3d90ec7b-0442-4d9f-d590-568573b5d992"
      },
      "source": [
        "print(f\"restecg value with 1 heart disease : {round(data[data.restecg == 1]['target'].sum()/data[data.restecg == 1]['target'].count()*100)}%\")\n",
        "print(f\"restecg value with 0 heart disease : {round(data[data.restecg == 0]['target'].sum()/data[data.restecg == 0]['target'].count()*100)}%\")"
      ],
      "execution_count": 83,
      "outputs": [
        {
          "output_type": "stream",
          "text": [
            "restecg value with 1 heart disease : 63%\n",
            "restecg value with 0 heart disease : 46%\n"
          ],
          "name": "stdout"
        }
      ]
    },
    {
      "cell_type": "markdown",
      "metadata": {
        "id": "ShYChLJU-zFp"
      },
      "source": [
        "- **People with restecg(resting EKG results) value 1 has much more heart disease than people with restecg value 0!**"
      ]
    },
    {
      "cell_type": "markdown",
      "metadata": {
        "id": "MXuQRUca-zFp"
      },
      "source": [
        "### **thal(thalium stress result) :**"
      ]
    },
    {
      "cell_type": "code",
      "metadata": {
        "execution": {
          "iopub.status.busy": "2021-08-19T05:43:12.925514Z",
          "iopub.execute_input": "2021-08-19T05:43:12.925790Z",
          "iopub.status.idle": "2021-08-19T05:43:12.934255Z",
          "shell.execute_reply.started": "2021-08-19T05:43:12.925763Z",
          "shell.execute_reply": "2021-08-19T05:43:12.933340Z"
        },
        "trusted": true,
        "colab": {
          "base_uri": "https://localhost:8080/"
        },
        "id": "A5b0IPvd-zFp",
        "outputId": "7ebbf14b-ea50-45e9-f07e-89c998007d89"
      },
      "source": [
        "thal = data['thal'].value_counts()\n",
        "thal"
      ],
      "execution_count": 84,
      "outputs": [
        {
          "output_type": "execute_result",
          "data": {
            "text/plain": [
              "2    166\n",
              "3    117\n",
              "1     18\n",
              "0      2\n",
              "Name: thal, dtype: int64"
            ]
          },
          "metadata": {},
          "execution_count": 84
        }
      ]
    },
    {
      "cell_type": "code",
      "metadata": {
        "execution": {
          "iopub.status.busy": "2021-08-19T05:43:12.938355Z",
          "iopub.execute_input": "2021-08-19T05:43:12.938627Z",
          "iopub.status.idle": "2021-08-19T05:43:12.948858Z",
          "shell.execute_reply.started": "2021-08-19T05:43:12.938600Z",
          "shell.execute_reply": "2021-08-19T05:43:12.948010Z"
        },
        "trusted": true,
        "colab": {
          "base_uri": "https://localhost:8080/"
        },
        "id": "LE06nFwt-zFq",
        "outputId": "17964952-0fab-412d-e3ed-0ac232602c77"
      },
      "source": [
        "data.groupby(['thal','Heart_Disease'])['Heart_Disease'].count()"
      ],
      "execution_count": 85,
      "outputs": [
        {
          "output_type": "execute_result",
          "data": {
            "text/plain": [
              "thal  Heart_Disease\n",
              "0     No                 1\n",
              "      Yes                1\n",
              "1     No                12\n",
              "      Yes                6\n",
              "2     No                36\n",
              "      Yes              130\n",
              "3     No                89\n",
              "      Yes               28\n",
              "Name: Heart_Disease, dtype: int64"
            ]
          },
          "metadata": {},
          "execution_count": 85
        }
      ]
    },
    {
      "cell_type": "code",
      "metadata": {
        "execution": {
          "iopub.status.busy": "2021-08-19T05:43:12.951612Z",
          "iopub.execute_input": "2021-08-19T05:43:12.952030Z",
          "iopub.status.idle": "2021-08-19T05:43:12.969248Z",
          "shell.execute_reply.started": "2021-08-19T05:43:12.951972Z",
          "shell.execute_reply": "2021-08-19T05:43:12.967809Z"
        },
        "trusted": true,
        "colab": {
          "base_uri": "https://localhost:8080/"
        },
        "id": "_U35AwB--zFq",
        "outputId": "3606551a-d06f-428c-e92b-ecded42a688c"
      },
      "source": [
        "print(f\"thal value with 1 heart disease : {round(data[data.thal == 1]['target'].sum()/data[data.thal == 1]['target'].count()*100)}%\")\n",
        "print(f\"thal value with 2 heart disease : {round(data[data.thal == 2]['target'].sum()/data[data.thal == 2]['target'].count()*100)}%\")\n",
        "print(f\"thal value with 3 heart disease : {round(data[data.thal == 3]['target'].sum()/data[data.thal == 3]['target'].count()*100)}%\")"
      ],
      "execution_count": 86,
      "outputs": [
        {
          "output_type": "stream",
          "text": [
            "thal value with 1 heart disease : 33%\n",
            "thal value with 2 heart disease : 78%\n",
            "thal value with 3 heart disease : 24%\n"
          ],
          "name": "stdout"
        }
      ]
    },
    {
      "cell_type": "markdown",
      "metadata": {
        "id": "hQERO8qx-zFr"
      },
      "source": [
        "- **People with thal(thalium stress result) value 2 have more heart disease than other values 1 & 3!**"
      ]
    },
    {
      "cell_type": "markdown",
      "metadata": {
        "id": "fnTn3WEB-zFr"
      },
      "source": [
        "### **fbs(fasting blood sugar) :**\n",
        "\n",
        "**fasting blood sugar > 120 mg/dl)**\n",
        "\n",
        "**(1 = true; 0 = false)**\n",
        "\n",
        "--- **'>126' mg/dL signals diabetes**"
      ]
    },
    {
      "cell_type": "code",
      "metadata": {
        "execution": {
          "iopub.status.busy": "2021-08-19T05:43:12.970229Z",
          "iopub.execute_input": "2021-08-19T05:43:12.970603Z",
          "iopub.status.idle": "2021-08-19T05:43:12.982442Z",
          "shell.execute_reply.started": "2021-08-19T05:43:12.970575Z",
          "shell.execute_reply": "2021-08-19T05:43:12.981431Z"
        },
        "trusted": true,
        "colab": {
          "base_uri": "https://localhost:8080/"
        },
        "id": "WiHROIeC-zFs",
        "outputId": "5519b439-49cf-4bca-93d5-3dde537ce3df"
      },
      "source": [
        "fbs = data['fbs'].value_counts()\n",
        "fbs"
      ],
      "execution_count": 87,
      "outputs": [
        {
          "output_type": "execute_result",
          "data": {
            "text/plain": [
              "0    258\n",
              "1     45\n",
              "Name: fbs, dtype: int64"
            ]
          },
          "metadata": {},
          "execution_count": 87
        }
      ]
    },
    {
      "cell_type": "code",
      "metadata": {
        "execution": {
          "iopub.status.busy": "2021-08-19T05:43:12.983851Z",
          "iopub.execute_input": "2021-08-19T05:43:12.984287Z",
          "iopub.status.idle": "2021-08-19T05:43:12.997245Z",
          "shell.execute_reply.started": "2021-08-19T05:43:12.984247Z",
          "shell.execute_reply": "2021-08-19T05:43:12.996203Z"
        },
        "trusted": true,
        "colab": {
          "base_uri": "https://localhost:8080/"
        },
        "id": "w32yYrkv-zFs",
        "outputId": "4e322424-fbba-4186-e252-a35dc3cc4062"
      },
      "source": [
        "data.groupby(['fbs','Heart_Disease'])['Heart_Disease'].count()"
      ],
      "execution_count": 88,
      "outputs": [
        {
          "output_type": "execute_result",
          "data": {
            "text/plain": [
              "fbs  Heart_Disease\n",
              "0    No               116\n",
              "     Yes              142\n",
              "1    No                22\n",
              "     Yes               23\n",
              "Name: Heart_Disease, dtype: int64"
            ]
          },
          "metadata": {},
          "execution_count": 88
        }
      ]
    },
    {
      "cell_type": "code",
      "metadata": {
        "execution": {
          "iopub.status.busy": "2021-08-19T05:43:12.998722Z",
          "iopub.execute_input": "2021-08-19T05:43:12.999138Z",
          "iopub.status.idle": "2021-08-19T05:43:13.010292Z",
          "shell.execute_reply.started": "2021-08-19T05:43:12.999092Z",
          "shell.execute_reply": "2021-08-19T05:43:13.009219Z"
        },
        "trusted": true,
        "colab": {
          "base_uri": "https://localhost:8080/"
        },
        "id": "Gj34ob8o-zFt",
        "outputId": "0825f15b-d75d-4933-9efa-11d2be8747da"
      },
      "source": [
        "print(f\"fbs value with 1 heart disease : {round(data[data.fbs == 1]['target'].sum()/data[data.fbs == 1]['target'].count()*100)}%\")\n",
        "print(f\"fbs value with 0 heart disease : {round(data[data.fbs == 0]['target'].sum()/data[data.fbs == 0]['target'].count()*100)}%\")"
      ],
      "execution_count": 89,
      "outputs": [
        {
          "output_type": "stream",
          "text": [
            "fbs value with 1 heart disease : 51%\n",
            "fbs value with 0 heart disease : 55%\n"
          ],
          "name": "stdout"
        }
      ]
    },
    {
      "cell_type": "markdown",
      "metadata": {
        "id": "6Rwu-s6S-zFt"
      },
      "source": [
        "- **So, it indicates that having \"fasting blood sugar\" can cause heart disease but people without fbs may have heart disease too!**"
      ]
    },
    {
      "cell_type": "markdown",
      "metadata": {
        "id": "0zNMcZ2D-zFu"
      },
      "source": [
        "### **Slope** :\n",
        "\n",
        "**the slope of the peak exercise ST segment**\n",
        "\n",
        "--- **0: Upsloping: better heart rate with excercise (uncommon)**\n",
        "\n",
        "--- **1: Flatsloping: minimal change (typical healthy heart)**\n",
        "\n",
        "--- **2: Downslopins: signs of unhealthy heart**"
      ]
    },
    {
      "cell_type": "code",
      "metadata": {
        "execution": {
          "iopub.status.busy": "2021-08-19T05:43:13.011852Z",
          "iopub.execute_input": "2021-08-19T05:43:13.012477Z",
          "iopub.status.idle": "2021-08-19T05:43:13.023580Z",
          "shell.execute_reply.started": "2021-08-19T05:43:13.012434Z",
          "shell.execute_reply": "2021-08-19T05:43:13.022461Z"
        },
        "trusted": true,
        "colab": {
          "base_uri": "https://localhost:8080/"
        },
        "id": "9StAhjl0-zFu",
        "outputId": "ebe3295c-64de-4c40-f404-ae8c2815b89c"
      },
      "source": [
        "data.groupby(['slope','Heart_Disease'])['Heart_Disease'].count()"
      ],
      "execution_count": 90,
      "outputs": [
        {
          "output_type": "execute_result",
          "data": {
            "text/plain": [
              "slope  Heart_Disease\n",
              "0      No                12\n",
              "       Yes                9\n",
              "1      No                91\n",
              "       Yes               49\n",
              "2      No                35\n",
              "       Yes              107\n",
              "Name: Heart_Disease, dtype: int64"
            ]
          },
          "metadata": {},
          "execution_count": 90
        }
      ]
    },
    {
      "cell_type": "code",
      "metadata": {
        "execution": {
          "iopub.status.busy": "2021-08-19T05:43:13.025221Z",
          "iopub.execute_input": "2021-08-19T05:43:13.025944Z",
          "iopub.status.idle": "2021-08-19T05:43:13.039558Z",
          "shell.execute_reply.started": "2021-08-19T05:43:13.025904Z",
          "shell.execute_reply": "2021-08-19T05:43:13.038502Z"
        },
        "trusted": true,
        "colab": {
          "base_uri": "https://localhost:8080/"
        },
        "id": "A8uJto26-zFv",
        "outputId": "b7099efd-5a55-4a0b-f424-c1bbbf15e6de"
      },
      "source": [
        "print(f\"slope value with 1 heart disease : {round(data[data.slope == 1]['target'].sum()/data[data.slope == 1]['target'].count()*100)}%\")\n",
        "print(f\"slope value with 0 heart disease : {round(data[data.slope == 0]['target'].sum()/data[data.slope == 0]['target'].count()*100)}%\")\n",
        "print(f\"slope value with 2 heart disease : {round(data[data.slope == 2]['target'].sum()/data[data.slope == 2]['target'].count()*100)}%\")\n"
      ],
      "execution_count": 91,
      "outputs": [
        {
          "output_type": "stream",
          "text": [
            "slope value with 1 heart disease : 35%\n",
            "slope value with 0 heart disease : 43%\n",
            "slope value with 2 heart disease : 75%\n"
          ],
          "name": "stdout"
        }
      ]
    },
    {
      "cell_type": "markdown",
      "metadata": {
        "id": "DmbSQFUY-zFv"
      },
      "source": [
        "- **Slope value 2 means you have critical heart! 75% people with slope value 2 are more likely to have heart disease than slope value with 0 & 1!**"
      ]
    },
    {
      "cell_type": "markdown",
      "metadata": {
        "id": "Y0q5lq0e-zFw"
      },
      "source": [
        "### **exang (exercise induced angina)**\n",
        "\n",
        "- **(1 = yes; 0 = no)**"
      ]
    },
    {
      "cell_type": "code",
      "metadata": {
        "execution": {
          "iopub.status.busy": "2021-08-19T05:43:13.041248Z",
          "iopub.execute_input": "2021-08-19T05:43:13.041749Z",
          "iopub.status.idle": "2021-08-19T05:43:13.053236Z",
          "shell.execute_reply.started": "2021-08-19T05:43:13.041707Z",
          "shell.execute_reply": "2021-08-19T05:43:13.052384Z"
        },
        "trusted": true,
        "colab": {
          "base_uri": "https://localhost:8080/"
        },
        "id": "pk4zV81d-zFx",
        "outputId": "a43f7df1-f649-4b7e-b520-49928859df13"
      },
      "source": [
        "data.groupby(['exang','Heart_Disease'])['Heart_Disease'].count()"
      ],
      "execution_count": 92,
      "outputs": [
        {
          "output_type": "execute_result",
          "data": {
            "text/plain": [
              "exang  Heart_Disease\n",
              "0      No                62\n",
              "       Yes              142\n",
              "1      No                76\n",
              "       Yes               23\n",
              "Name: Heart_Disease, dtype: int64"
            ]
          },
          "metadata": {},
          "execution_count": 92
        }
      ]
    },
    {
      "cell_type": "code",
      "metadata": {
        "execution": {
          "iopub.status.busy": "2021-08-19T05:43:13.054251Z",
          "iopub.execute_input": "2021-08-19T05:43:13.054507Z",
          "iopub.status.idle": "2021-08-19T05:43:13.063036Z",
          "shell.execute_reply.started": "2021-08-19T05:43:13.054483Z",
          "shell.execute_reply": "2021-08-19T05:43:13.062227Z"
        },
        "trusted": true,
        "colab": {
          "base_uri": "https://localhost:8080/"
        },
        "id": "zulWAKEF-zFx",
        "outputId": "f6ccf8cd-c07a-44e5-cff6-afbd26039204"
      },
      "source": [
        "print(f\"exang value with 0 heart disease : {round(data[data.exang == 0]['target'].sum()/data[data.exang == 0]['target'].count()*100)}%\")\n",
        "print(f\"exang value with 1 heart disease : {round(data[data.exang == 1]['target'].sum()/data[data.exang == 1]['target'].count()*100)}%\")"
      ],
      "execution_count": 93,
      "outputs": [
        {
          "output_type": "stream",
          "text": [
            "exang value with 0 heart disease : 70%\n",
            "exang value with 1 heart disease : 23%\n"
          ],
          "name": "stdout"
        }
      ]
    },
    {
      "cell_type": "markdown",
      "metadata": {
        "id": "pFVZnkga-zFy"
      },
      "source": [
        "- **People without exercise (exang=0/No angina induced by exercise) have more heart disease than People with exercise (exang=0/ angina induced by exercise)**"
      ]
    },
    {
      "cell_type": "markdown",
      "metadata": {
        "id": "Txp7QGOF-zFy"
      },
      "source": [
        "### **ca - number of major vessels**\n",
        "\n",
        "- **(0-3) colored by flourosopy**\n",
        "\n",
        "--- **colored vessel means the doctor can see the blood passing through the more blood movement the better (no clots)**\n"
      ]
    },
    {
      "cell_type": "code",
      "metadata": {
        "execution": {
          "iopub.status.busy": "2021-08-19T05:43:13.064160Z",
          "iopub.execute_input": "2021-08-19T05:43:13.064424Z",
          "iopub.status.idle": "2021-08-19T05:43:13.075244Z",
          "shell.execute_reply.started": "2021-08-19T05:43:13.064399Z",
          "shell.execute_reply": "2021-08-19T05:43:13.074122Z"
        },
        "trusted": true,
        "colab": {
          "base_uri": "https://localhost:8080/"
        },
        "id": "57dgIPb6-zFz",
        "outputId": "349812ab-7406-4b35-91b0-2cdcf213c4be"
      },
      "source": [
        "data.groupby(['ca','Heart_Disease'])['Heart_Disease'].count()"
      ],
      "execution_count": 94,
      "outputs": [
        {
          "output_type": "execute_result",
          "data": {
            "text/plain": [
              "ca  Heart_Disease\n",
              "0   No                45\n",
              "    Yes              130\n",
              "1   No                44\n",
              "    Yes               21\n",
              "2   No                31\n",
              "    Yes                7\n",
              "3   No                17\n",
              "    Yes                3\n",
              "4   No                 1\n",
              "    Yes                4\n",
              "Name: Heart_Disease, dtype: int64"
            ]
          },
          "metadata": {},
          "execution_count": 94
        }
      ]
    },
    {
      "cell_type": "code",
      "metadata": {
        "execution": {
          "iopub.status.busy": "2021-08-19T05:43:13.077137Z",
          "iopub.execute_input": "2021-08-19T05:43:13.077612Z",
          "iopub.status.idle": "2021-08-19T05:43:13.091851Z",
          "shell.execute_reply.started": "2021-08-19T05:43:13.077570Z",
          "shell.execute_reply": "2021-08-19T05:43:13.090868Z"
        },
        "trusted": true,
        "colab": {
          "base_uri": "https://localhost:8080/"
        },
        "id": "VWCJzepP-zF0",
        "outputId": "1b1740f3-3958-4f60-f427-077aa2445928"
      },
      "source": [
        "print(f\"ca value with 0 heart disease : {round(data[data.ca == 0]['target'].sum()/data[data.ca == 0]['target'].count()*100)}%\")\n",
        "print(f\"ca value with 1 heart disease : {round(data[data.ca == 1]['target'].sum()/data[data.ca == 1]['target'].count()*100)}%\")\n",
        "print(f\"ca value with 2 heart disease : {round(data[data.ca == 2]['target'].sum()/data[data.ca == 2]['target'].count()*100)}%\")"
      ],
      "execution_count": 95,
      "outputs": [
        {
          "output_type": "stream",
          "text": [
            "ca value with 0 heart disease : 74%\n",
            "ca value with 1 heart disease : 32%\n",
            "ca value with 2 heart disease : 18%\n"
          ],
          "name": "stdout"
        }
      ]
    },
    {
      "cell_type": "markdown",
      "metadata": {
        "id": "NUMO5ck1-zF1"
      },
      "source": [
        "**The more blood movement, the better your heart is! So, people with ca value 0 are more likely to have heart disease than ca value 1,2,3,4!**"
      ]
    },
    {
      "cell_type": "markdown",
      "metadata": {
        "id": "T39ZeOYSvSEV"
      },
      "source": [
        "## **Summary:**\n",
        "\n",
        "1. **sex** : Male has less heart attack trendency(45%) than Female(75%).\n",
        "2. **cp** : People with cp value 1,2,3 are more likely to have heart disease than people with 0 cp value.\n",
        "3. **fbs** : Having \"fasting blood sugar\" can cause heart disease but people without fbs may have heart disease too!\n",
        "4. **ca** : The more blood movement, the better your heart is! So, people with ca value 0 are more likely to have heart disease than ca value 1,2,3,4!\n",
        "5. **exang** : People without exercise (exang=0/No angina induced by exercise) have more heart disease than People with exercise (exang=0/ angina induced by exercise)\n",
        "6. **slope** : Slope value 2 means you have critical heart! 75% people with slope value 2 are more likely to have heart disease than slope value with 0 & 1!\n",
        "7. **thal** : People with thal(thalium stress result) value 2 have more heart disease than other values 1 & 3!\n",
        "8. **restecg** : People with restecg(resting EKG results) value 1 has much more heart disease than people with restecg value 0!"
      ]
    },
    {
      "cell_type": "markdown",
      "metadata": {
        "id": "DHQJkU4O-zF2"
      },
      "source": [
        "## **Creating Model :**"
      ]
    },
    {
      "cell_type": "code",
      "metadata": {
        "execution": {
          "iopub.status.busy": "2021-08-19T05:43:13.093251Z",
          "iopub.execute_input": "2021-08-19T05:43:13.093575Z",
          "iopub.status.idle": "2021-08-19T05:43:13.107223Z",
          "shell.execute_reply.started": "2021-08-19T05:43:13.093549Z",
          "shell.execute_reply": "2021-08-19T05:43:13.106512Z"
        },
        "trusted": true,
        "id": "0BfUb_jV-zF3"
      },
      "source": [
        "categorical_column.remove('target')\n",
        "dataset = pd.get_dummies(data, columns = categorical_column)"
      ],
      "execution_count": 96,
      "outputs": []
    },
    {
      "cell_type": "code",
      "metadata": {
        "execution": {
          "iopub.status.busy": "2021-08-19T05:43:13.108363Z",
          "iopub.execute_input": "2021-08-19T05:43:13.108821Z",
          "iopub.status.idle": "2021-08-19T05:43:13.133147Z",
          "shell.execute_reply.started": "2021-08-19T05:43:13.108790Z",
          "shell.execute_reply": "2021-08-19T05:43:13.132164Z"
        },
        "trusted": true,
        "colab": {
          "base_uri": "https://localhost:8080/",
          "height": 226
        },
        "id": "lPZAicRt-zF4",
        "outputId": "8607ae2a-999b-4bb0-c9a7-2277e3b9fd87"
      },
      "source": [
        "dataset.head()"
      ],
      "execution_count": 97,
      "outputs": [
        {
          "output_type": "execute_result",
          "data": {
            "text/html": [
              "<div>\n",
              "<style scoped>\n",
              "    .dataframe tbody tr th:only-of-type {\n",
              "        vertical-align: middle;\n",
              "    }\n",
              "\n",
              "    .dataframe tbody tr th {\n",
              "        vertical-align: top;\n",
              "    }\n",
              "\n",
              "    .dataframe thead th {\n",
              "        text-align: right;\n",
              "    }\n",
              "</style>\n",
              "<table border=\"1\" class=\"dataframe\">\n",
              "  <thead>\n",
              "    <tr style=\"text-align: right;\">\n",
              "      <th></th>\n",
              "      <th>age</th>\n",
              "      <th>trestbps</th>\n",
              "      <th>chol</th>\n",
              "      <th>thalach</th>\n",
              "      <th>oldpeak</th>\n",
              "      <th>target</th>\n",
              "      <th>Heart_Disease</th>\n",
              "      <th>gender</th>\n",
              "      <th>sex_0</th>\n",
              "      <th>sex_1</th>\n",
              "      <th>cp_0</th>\n",
              "      <th>cp_1</th>\n",
              "      <th>cp_2</th>\n",
              "      <th>cp_3</th>\n",
              "      <th>fbs_0</th>\n",
              "      <th>fbs_1</th>\n",
              "      <th>restecg_0</th>\n",
              "      <th>restecg_1</th>\n",
              "      <th>restecg_2</th>\n",
              "      <th>exang_0</th>\n",
              "      <th>exang_1</th>\n",
              "      <th>slope_0</th>\n",
              "      <th>slope_1</th>\n",
              "      <th>slope_2</th>\n",
              "      <th>ca_0</th>\n",
              "      <th>ca_1</th>\n",
              "      <th>ca_2</th>\n",
              "      <th>ca_3</th>\n",
              "      <th>ca_4</th>\n",
              "      <th>thal_0</th>\n",
              "      <th>thal_1</th>\n",
              "      <th>thal_2</th>\n",
              "      <th>thal_3</th>\n",
              "    </tr>\n",
              "  </thead>\n",
              "  <tbody>\n",
              "    <tr>\n",
              "      <th>0</th>\n",
              "      <td>63</td>\n",
              "      <td>145</td>\n",
              "      <td>233</td>\n",
              "      <td>150</td>\n",
              "      <td>2.3</td>\n",
              "      <td>1</td>\n",
              "      <td>Yes</td>\n",
              "      <td>Male</td>\n",
              "      <td>0</td>\n",
              "      <td>1</td>\n",
              "      <td>0</td>\n",
              "      <td>0</td>\n",
              "      <td>0</td>\n",
              "      <td>1</td>\n",
              "      <td>0</td>\n",
              "      <td>1</td>\n",
              "      <td>1</td>\n",
              "      <td>0</td>\n",
              "      <td>0</td>\n",
              "      <td>1</td>\n",
              "      <td>0</td>\n",
              "      <td>1</td>\n",
              "      <td>0</td>\n",
              "      <td>0</td>\n",
              "      <td>1</td>\n",
              "      <td>0</td>\n",
              "      <td>0</td>\n",
              "      <td>0</td>\n",
              "      <td>0</td>\n",
              "      <td>0</td>\n",
              "      <td>1</td>\n",
              "      <td>0</td>\n",
              "      <td>0</td>\n",
              "    </tr>\n",
              "    <tr>\n",
              "      <th>1</th>\n",
              "      <td>37</td>\n",
              "      <td>130</td>\n",
              "      <td>250</td>\n",
              "      <td>187</td>\n",
              "      <td>3.5</td>\n",
              "      <td>1</td>\n",
              "      <td>Yes</td>\n",
              "      <td>Male</td>\n",
              "      <td>0</td>\n",
              "      <td>1</td>\n",
              "      <td>0</td>\n",
              "      <td>0</td>\n",
              "      <td>1</td>\n",
              "      <td>0</td>\n",
              "      <td>1</td>\n",
              "      <td>0</td>\n",
              "      <td>0</td>\n",
              "      <td>1</td>\n",
              "      <td>0</td>\n",
              "      <td>1</td>\n",
              "      <td>0</td>\n",
              "      <td>1</td>\n",
              "      <td>0</td>\n",
              "      <td>0</td>\n",
              "      <td>1</td>\n",
              "      <td>0</td>\n",
              "      <td>0</td>\n",
              "      <td>0</td>\n",
              "      <td>0</td>\n",
              "      <td>0</td>\n",
              "      <td>0</td>\n",
              "      <td>1</td>\n",
              "      <td>0</td>\n",
              "    </tr>\n",
              "    <tr>\n",
              "      <th>2</th>\n",
              "      <td>41</td>\n",
              "      <td>130</td>\n",
              "      <td>204</td>\n",
              "      <td>172</td>\n",
              "      <td>1.4</td>\n",
              "      <td>1</td>\n",
              "      <td>Yes</td>\n",
              "      <td>Female</td>\n",
              "      <td>1</td>\n",
              "      <td>0</td>\n",
              "      <td>0</td>\n",
              "      <td>1</td>\n",
              "      <td>0</td>\n",
              "      <td>0</td>\n",
              "      <td>1</td>\n",
              "      <td>0</td>\n",
              "      <td>1</td>\n",
              "      <td>0</td>\n",
              "      <td>0</td>\n",
              "      <td>1</td>\n",
              "      <td>0</td>\n",
              "      <td>0</td>\n",
              "      <td>0</td>\n",
              "      <td>1</td>\n",
              "      <td>1</td>\n",
              "      <td>0</td>\n",
              "      <td>0</td>\n",
              "      <td>0</td>\n",
              "      <td>0</td>\n",
              "      <td>0</td>\n",
              "      <td>0</td>\n",
              "      <td>1</td>\n",
              "      <td>0</td>\n",
              "    </tr>\n",
              "    <tr>\n",
              "      <th>3</th>\n",
              "      <td>56</td>\n",
              "      <td>120</td>\n",
              "      <td>236</td>\n",
              "      <td>178</td>\n",
              "      <td>0.8</td>\n",
              "      <td>1</td>\n",
              "      <td>Yes</td>\n",
              "      <td>Male</td>\n",
              "      <td>0</td>\n",
              "      <td>1</td>\n",
              "      <td>0</td>\n",
              "      <td>1</td>\n",
              "      <td>0</td>\n",
              "      <td>0</td>\n",
              "      <td>1</td>\n",
              "      <td>0</td>\n",
              "      <td>0</td>\n",
              "      <td>1</td>\n",
              "      <td>0</td>\n",
              "      <td>1</td>\n",
              "      <td>0</td>\n",
              "      <td>0</td>\n",
              "      <td>0</td>\n",
              "      <td>1</td>\n",
              "      <td>1</td>\n",
              "      <td>0</td>\n",
              "      <td>0</td>\n",
              "      <td>0</td>\n",
              "      <td>0</td>\n",
              "      <td>0</td>\n",
              "      <td>0</td>\n",
              "      <td>1</td>\n",
              "      <td>0</td>\n",
              "    </tr>\n",
              "    <tr>\n",
              "      <th>4</th>\n",
              "      <td>57</td>\n",
              "      <td>120</td>\n",
              "      <td>354</td>\n",
              "      <td>163</td>\n",
              "      <td>0.6</td>\n",
              "      <td>1</td>\n",
              "      <td>Yes</td>\n",
              "      <td>Female</td>\n",
              "      <td>1</td>\n",
              "      <td>0</td>\n",
              "      <td>1</td>\n",
              "      <td>0</td>\n",
              "      <td>0</td>\n",
              "      <td>0</td>\n",
              "      <td>1</td>\n",
              "      <td>0</td>\n",
              "      <td>0</td>\n",
              "      <td>1</td>\n",
              "      <td>0</td>\n",
              "      <td>0</td>\n",
              "      <td>1</td>\n",
              "      <td>0</td>\n",
              "      <td>0</td>\n",
              "      <td>1</td>\n",
              "      <td>1</td>\n",
              "      <td>0</td>\n",
              "      <td>0</td>\n",
              "      <td>0</td>\n",
              "      <td>0</td>\n",
              "      <td>0</td>\n",
              "      <td>0</td>\n",
              "      <td>1</td>\n",
              "      <td>0</td>\n",
              "    </tr>\n",
              "  </tbody>\n",
              "</table>\n",
              "</div>"
            ],
            "text/plain": [
              "   age  trestbps  chol  thalach  oldpeak  ...  ca_4 thal_0 thal_1  thal_2  thal_3\n",
              "0   63       145   233      150      2.3  ...     0      0      1       0       0\n",
              "1   37       130   250      187      3.5  ...     0      0      0       1       0\n",
              "2   41       130   204      172      1.4  ...     0      0      0       1       0\n",
              "3   56       120   236      178      0.8  ...     0      0      0       1       0\n",
              "4   57       120   354      163      0.6  ...     0      0      0       1       0\n",
              "\n",
              "[5 rows x 33 columns]"
            ]
          },
          "metadata": {},
          "execution_count": 97
        }
      ]
    },
    {
      "cell_type": "markdown",
      "metadata": {
        "id": "sYl8cp-w-zF4"
      },
      "source": [
        "## **Standardaization**"
      ]
    },
    {
      "cell_type": "code",
      "metadata": {
        "execution": {
          "iopub.status.busy": "2021-08-19T05:43:13.134254Z",
          "iopub.execute_input": "2021-08-19T05:43:13.134513Z",
          "iopub.status.idle": "2021-08-19T05:43:13.155531Z",
          "shell.execute_reply.started": "2021-08-19T05:43:13.134487Z",
          "shell.execute_reply": "2021-08-19T05:43:13.154607Z"
        },
        "trusted": true,
        "id": "f6OfoPTc-zF5"
      },
      "source": [
        "from sklearn.preprocessing import StandardScaler\n",
        "\n",
        "s_sc = StandardScaler()\n",
        "col_to_scale = ['age', 'trestbps', 'chol', 'thalach', 'oldpeak']\n",
        "dataset[col_to_scale] = s_sc.fit_transform(dataset[col_to_scale])"
      ],
      "execution_count": 98,
      "outputs": []
    },
    {
      "cell_type": "code",
      "metadata": {
        "execution": {
          "iopub.status.busy": "2021-08-19T05:43:13.156611Z",
          "iopub.execute_input": "2021-08-19T05:43:13.156886Z",
          "iopub.status.idle": "2021-08-19T05:43:13.163673Z",
          "shell.execute_reply.started": "2021-08-19T05:43:13.156859Z",
          "shell.execute_reply": "2021-08-19T05:43:13.162613Z"
        },
        "trusted": true,
        "colab": {
          "base_uri": "https://localhost:8080/"
        },
        "id": "KrVDMhdv-zF5",
        "outputId": "41528a71-6bb0-4aa7-ac10-6ea0bf0a8fd1"
      },
      "source": [
        "dataset.columns"
      ],
      "execution_count": 99,
      "outputs": [
        {
          "output_type": "execute_result",
          "data": {
            "text/plain": [
              "Index(['age', 'trestbps', 'chol', 'thalach', 'oldpeak', 'target',\n",
              "       'Heart_Disease', 'gender', 'sex_0', 'sex_1', 'cp_0', 'cp_1', 'cp_2',\n",
              "       'cp_3', 'fbs_0', 'fbs_1', 'restecg_0', 'restecg_1', 'restecg_2',\n",
              "       'exang_0', 'exang_1', 'slope_0', 'slope_1', 'slope_2', 'ca_0', 'ca_1',\n",
              "       'ca_2', 'ca_3', 'ca_4', 'thal_0', 'thal_1', 'thal_2', 'thal_3'],\n",
              "      dtype='object')"
            ]
          },
          "metadata": {},
          "execution_count": 99
        }
      ]
    },
    {
      "cell_type": "code",
      "metadata": {
        "execution": {
          "iopub.status.busy": "2021-08-19T05:43:13.164957Z",
          "iopub.execute_input": "2021-08-19T05:43:13.165507Z",
          "iopub.status.idle": "2021-08-19T05:43:13.187950Z",
          "shell.execute_reply.started": "2021-08-19T05:43:13.165469Z",
          "shell.execute_reply": "2021-08-19T05:43:13.187226Z"
        },
        "trusted": true,
        "id": "k0YKs-73-zF6"
      },
      "source": [
        "from sklearn.model_selection import train_test_split"
      ],
      "execution_count": 100,
      "outputs": []
    },
    {
      "cell_type": "code",
      "metadata": {
        "execution": {
          "iopub.status.busy": "2021-08-19T05:43:13.189190Z",
          "iopub.execute_input": "2021-08-19T05:43:13.189760Z",
          "iopub.status.idle": "2021-08-19T05:43:13.216367Z",
          "shell.execute_reply.started": "2021-08-19T05:43:13.189719Z",
          "shell.execute_reply": "2021-08-19T05:43:13.215561Z"
        },
        "trusted": true,
        "id": "ZmBZwO5m-zF6"
      },
      "source": [
        "from sklearn.linear_model import LogisticRegression"
      ],
      "execution_count": 101,
      "outputs": []
    },
    {
      "cell_type": "code",
      "metadata": {
        "execution": {
          "iopub.status.busy": "2021-08-19T05:43:13.217486Z",
          "iopub.execute_input": "2021-08-19T05:43:13.218035Z",
          "iopub.status.idle": "2021-08-19T05:43:13.222358Z",
          "shell.execute_reply.started": "2021-08-19T05:43:13.217979Z",
          "shell.execute_reply": "2021-08-19T05:43:13.221456Z"
        },
        "trusted": true,
        "id": "CJZq-add-zF6"
      },
      "source": [
        "model = LogisticRegression()"
      ],
      "execution_count": 102,
      "outputs": []
    },
    {
      "cell_type": "code",
      "metadata": {
        "execution": {
          "iopub.status.busy": "2021-08-19T05:43:13.223545Z",
          "iopub.execute_input": "2021-08-19T05:43:13.224100Z",
          "iopub.status.idle": "2021-08-19T05:43:13.253678Z",
          "shell.execute_reply.started": "2021-08-19T05:43:13.224063Z",
          "shell.execute_reply": "2021-08-19T05:43:13.252969Z"
        },
        "trusted": true,
        "colab": {
          "base_uri": "https://localhost:8080/",
          "height": 226
        },
        "id": "mFfXj3tQ-zF7",
        "outputId": "bf5b1534-c2f4-4507-e5f3-89a9e06dd874"
      },
      "source": [
        "xy=dataset.drop(['target','Heart_Disease','gender'],axis=1)\n",
        "xy.head()"
      ],
      "execution_count": 103,
      "outputs": [
        {
          "output_type": "execute_result",
          "data": {
            "text/html": [
              "<div>\n",
              "<style scoped>\n",
              "    .dataframe tbody tr th:only-of-type {\n",
              "        vertical-align: middle;\n",
              "    }\n",
              "\n",
              "    .dataframe tbody tr th {\n",
              "        vertical-align: top;\n",
              "    }\n",
              "\n",
              "    .dataframe thead th {\n",
              "        text-align: right;\n",
              "    }\n",
              "</style>\n",
              "<table border=\"1\" class=\"dataframe\">\n",
              "  <thead>\n",
              "    <tr style=\"text-align: right;\">\n",
              "      <th></th>\n",
              "      <th>age</th>\n",
              "      <th>trestbps</th>\n",
              "      <th>chol</th>\n",
              "      <th>thalach</th>\n",
              "      <th>oldpeak</th>\n",
              "      <th>sex_0</th>\n",
              "      <th>sex_1</th>\n",
              "      <th>cp_0</th>\n",
              "      <th>cp_1</th>\n",
              "      <th>cp_2</th>\n",
              "      <th>cp_3</th>\n",
              "      <th>fbs_0</th>\n",
              "      <th>fbs_1</th>\n",
              "      <th>restecg_0</th>\n",
              "      <th>restecg_1</th>\n",
              "      <th>restecg_2</th>\n",
              "      <th>exang_0</th>\n",
              "      <th>exang_1</th>\n",
              "      <th>slope_0</th>\n",
              "      <th>slope_1</th>\n",
              "      <th>slope_2</th>\n",
              "      <th>ca_0</th>\n",
              "      <th>ca_1</th>\n",
              "      <th>ca_2</th>\n",
              "      <th>ca_3</th>\n",
              "      <th>ca_4</th>\n",
              "      <th>thal_0</th>\n",
              "      <th>thal_1</th>\n",
              "      <th>thal_2</th>\n",
              "      <th>thal_3</th>\n",
              "    </tr>\n",
              "  </thead>\n",
              "  <tbody>\n",
              "    <tr>\n",
              "      <th>0</th>\n",
              "      <td>0.952197</td>\n",
              "      <td>0.763956</td>\n",
              "      <td>-0.256334</td>\n",
              "      <td>0.015443</td>\n",
              "      <td>1.087338</td>\n",
              "      <td>0</td>\n",
              "      <td>1</td>\n",
              "      <td>0</td>\n",
              "      <td>0</td>\n",
              "      <td>0</td>\n",
              "      <td>1</td>\n",
              "      <td>0</td>\n",
              "      <td>1</td>\n",
              "      <td>1</td>\n",
              "      <td>0</td>\n",
              "      <td>0</td>\n",
              "      <td>1</td>\n",
              "      <td>0</td>\n",
              "      <td>1</td>\n",
              "      <td>0</td>\n",
              "      <td>0</td>\n",
              "      <td>1</td>\n",
              "      <td>0</td>\n",
              "      <td>0</td>\n",
              "      <td>0</td>\n",
              "      <td>0</td>\n",
              "      <td>0</td>\n",
              "      <td>1</td>\n",
              "      <td>0</td>\n",
              "      <td>0</td>\n",
              "    </tr>\n",
              "    <tr>\n",
              "      <th>1</th>\n",
              "      <td>-1.915313</td>\n",
              "      <td>-0.092738</td>\n",
              "      <td>0.072199</td>\n",
              "      <td>1.633471</td>\n",
              "      <td>2.122573</td>\n",
              "      <td>0</td>\n",
              "      <td>1</td>\n",
              "      <td>0</td>\n",
              "      <td>0</td>\n",
              "      <td>1</td>\n",
              "      <td>0</td>\n",
              "      <td>1</td>\n",
              "      <td>0</td>\n",
              "      <td>0</td>\n",
              "      <td>1</td>\n",
              "      <td>0</td>\n",
              "      <td>1</td>\n",
              "      <td>0</td>\n",
              "      <td>1</td>\n",
              "      <td>0</td>\n",
              "      <td>0</td>\n",
              "      <td>1</td>\n",
              "      <td>0</td>\n",
              "      <td>0</td>\n",
              "      <td>0</td>\n",
              "      <td>0</td>\n",
              "      <td>0</td>\n",
              "      <td>0</td>\n",
              "      <td>1</td>\n",
              "      <td>0</td>\n",
              "    </tr>\n",
              "    <tr>\n",
              "      <th>2</th>\n",
              "      <td>-1.474158</td>\n",
              "      <td>-0.092738</td>\n",
              "      <td>-0.816773</td>\n",
              "      <td>0.977514</td>\n",
              "      <td>0.310912</td>\n",
              "      <td>1</td>\n",
              "      <td>0</td>\n",
              "      <td>0</td>\n",
              "      <td>1</td>\n",
              "      <td>0</td>\n",
              "      <td>0</td>\n",
              "      <td>1</td>\n",
              "      <td>0</td>\n",
              "      <td>1</td>\n",
              "      <td>0</td>\n",
              "      <td>0</td>\n",
              "      <td>1</td>\n",
              "      <td>0</td>\n",
              "      <td>0</td>\n",
              "      <td>0</td>\n",
              "      <td>1</td>\n",
              "      <td>1</td>\n",
              "      <td>0</td>\n",
              "      <td>0</td>\n",
              "      <td>0</td>\n",
              "      <td>0</td>\n",
              "      <td>0</td>\n",
              "      <td>0</td>\n",
              "      <td>1</td>\n",
              "      <td>0</td>\n",
              "    </tr>\n",
              "    <tr>\n",
              "      <th>3</th>\n",
              "      <td>0.180175</td>\n",
              "      <td>-0.663867</td>\n",
              "      <td>-0.198357</td>\n",
              "      <td>1.239897</td>\n",
              "      <td>-0.206705</td>\n",
              "      <td>0</td>\n",
              "      <td>1</td>\n",
              "      <td>0</td>\n",
              "      <td>1</td>\n",
              "      <td>0</td>\n",
              "      <td>0</td>\n",
              "      <td>1</td>\n",
              "      <td>0</td>\n",
              "      <td>0</td>\n",
              "      <td>1</td>\n",
              "      <td>0</td>\n",
              "      <td>1</td>\n",
              "      <td>0</td>\n",
              "      <td>0</td>\n",
              "      <td>0</td>\n",
              "      <td>1</td>\n",
              "      <td>1</td>\n",
              "      <td>0</td>\n",
              "      <td>0</td>\n",
              "      <td>0</td>\n",
              "      <td>0</td>\n",
              "      <td>0</td>\n",
              "      <td>0</td>\n",
              "      <td>1</td>\n",
              "      <td>0</td>\n",
              "    </tr>\n",
              "    <tr>\n",
              "      <th>4</th>\n",
              "      <td>0.290464</td>\n",
              "      <td>-0.663867</td>\n",
              "      <td>2.082050</td>\n",
              "      <td>0.583939</td>\n",
              "      <td>-0.379244</td>\n",
              "      <td>1</td>\n",
              "      <td>0</td>\n",
              "      <td>1</td>\n",
              "      <td>0</td>\n",
              "      <td>0</td>\n",
              "      <td>0</td>\n",
              "      <td>1</td>\n",
              "      <td>0</td>\n",
              "      <td>0</td>\n",
              "      <td>1</td>\n",
              "      <td>0</td>\n",
              "      <td>0</td>\n",
              "      <td>1</td>\n",
              "      <td>0</td>\n",
              "      <td>0</td>\n",
              "      <td>1</td>\n",
              "      <td>1</td>\n",
              "      <td>0</td>\n",
              "      <td>0</td>\n",
              "      <td>0</td>\n",
              "      <td>0</td>\n",
              "      <td>0</td>\n",
              "      <td>0</td>\n",
              "      <td>1</td>\n",
              "      <td>0</td>\n",
              "    </tr>\n",
              "  </tbody>\n",
              "</table>\n",
              "</div>"
            ],
            "text/plain": [
              "        age  trestbps      chol   thalach  ...  thal_0  thal_1  thal_2  thal_3\n",
              "0  0.952197  0.763956 -0.256334  0.015443  ...       0       1       0       0\n",
              "1 -1.915313 -0.092738  0.072199  1.633471  ...       0       0       1       0\n",
              "2 -1.474158 -0.092738 -0.816773  0.977514  ...       0       0       1       0\n",
              "3  0.180175 -0.663867 -0.198357  1.239897  ...       0       0       1       0\n",
              "4  0.290464 -0.663867  2.082050  0.583939  ...       0       0       1       0\n",
              "\n",
              "[5 rows x 30 columns]"
            ]
          },
          "metadata": {},
          "execution_count": 103
        }
      ]
    },
    {
      "cell_type": "code",
      "metadata": {
        "execution": {
          "iopub.status.busy": "2021-08-19T05:43:13.254784Z",
          "iopub.execute_input": "2021-08-19T05:43:13.255256Z",
          "iopub.status.idle": "2021-08-19T05:43:13.262181Z",
          "shell.execute_reply.started": "2021-08-19T05:43:13.255224Z",
          "shell.execute_reply": "2021-08-19T05:43:13.261195Z"
        },
        "trusted": true,
        "colab": {
          "base_uri": "https://localhost:8080/"
        },
        "id": "sLHSZWkx-zF7",
        "outputId": "0228da96-43e6-4ecd-8542-4e360aa118a7"
      },
      "source": [
        "yz = dataset['target']\n",
        "yz.head()"
      ],
      "execution_count": 104,
      "outputs": [
        {
          "output_type": "execute_result",
          "data": {
            "text/plain": [
              "0    1\n",
              "1    1\n",
              "2    1\n",
              "3    1\n",
              "4    1\n",
              "Name: target, dtype: int64"
            ]
          },
          "metadata": {},
          "execution_count": 104
        }
      ]
    },
    {
      "cell_type": "code",
      "metadata": {
        "execution": {
          "iopub.status.busy": "2021-08-19T05:43:13.263629Z",
          "iopub.execute_input": "2021-08-19T05:43:13.263908Z",
          "iopub.status.idle": "2021-08-19T05:43:13.275532Z",
          "shell.execute_reply.started": "2021-08-19T05:43:13.263880Z",
          "shell.execute_reply": "2021-08-19T05:43:13.274542Z"
        },
        "trusted": true,
        "id": "ES4dqUzo-zF8"
      },
      "source": [
        "x_train,x_test,y_train,y_test = train_test_split(xy,yz, test_size=.3,stratify=yz, random_state=5)"
      ],
      "execution_count": 105,
      "outputs": []
    },
    {
      "cell_type": "code",
      "metadata": {
        "execution": {
          "iopub.status.busy": "2021-08-19T05:43:13.277013Z",
          "iopub.execute_input": "2021-08-19T05:43:13.277348Z",
          "iopub.status.idle": "2021-08-19T05:43:13.316385Z",
          "shell.execute_reply.started": "2021-08-19T05:43:13.277307Z",
          "shell.execute_reply": "2021-08-19T05:43:13.315423Z"
        },
        "trusted": true,
        "colab": {
          "base_uri": "https://localhost:8080/"
        },
        "id": "u40ZeyAo-zF8",
        "outputId": "5707343b-4420-4938-ce26-af954a7bca57"
      },
      "source": [
        "model.fit(x_train,y_train)"
      ],
      "execution_count": 106,
      "outputs": [
        {
          "output_type": "execute_result",
          "data": {
            "text/plain": [
              "LogisticRegression(C=1.0, class_weight=None, dual=False, fit_intercept=True,\n",
              "                   intercept_scaling=1, l1_ratio=None, max_iter=100,\n",
              "                   multi_class='auto', n_jobs=None, penalty='l2',\n",
              "                   random_state=None, solver='lbfgs', tol=0.0001, verbose=0,\n",
              "                   warm_start=False)"
            ]
          },
          "metadata": {},
          "execution_count": 106
        }
      ]
    },
    {
      "cell_type": "code",
      "metadata": {
        "execution": {
          "iopub.status.busy": "2021-08-19T05:43:13.317633Z",
          "iopub.execute_input": "2021-08-19T05:43:13.317949Z",
          "iopub.status.idle": "2021-08-19T05:43:13.326975Z",
          "shell.execute_reply.started": "2021-08-19T05:43:13.317919Z",
          "shell.execute_reply": "2021-08-19T05:43:13.325771Z"
        },
        "trusted": true,
        "colab": {
          "base_uri": "https://localhost:8080/"
        },
        "id": "9XbG-FlM-zF9",
        "outputId": "5bff8d2c-7c5e-4014-9364-6f2cb6ffce9d"
      },
      "source": [
        "y_pred= model.predict(x_test)\n",
        "y_pred"
      ],
      "execution_count": 107,
      "outputs": [
        {
          "output_type": "execute_result",
          "data": {
            "text/plain": [
              "array([1, 1, 1, 0, 0, 0, 1, 0, 0, 1, 0, 1, 1, 0, 1, 0, 1, 0, 1, 0, 1, 0,\n",
              "       1, 0, 0, 1, 1, 0, 0, 1, 0, 1, 1, 0, 1, 0, 1, 0, 1, 1, 0, 0, 1, 1,\n",
              "       1, 1, 0, 1, 0, 1, 0, 1, 0, 1, 0, 0, 1, 0, 0, 1, 0, 0, 0, 0, 1, 1,\n",
              "       0, 1, 0, 0, 1, 1, 1, 1, 0, 0, 1, 0, 1, 1, 1, 1, 0, 0, 1, 1, 1, 1,\n",
              "       1, 0, 0])"
            ]
          },
          "metadata": {},
          "execution_count": 107
        }
      ]
    },
    {
      "cell_type": "markdown",
      "metadata": {
        "id": "zT__CSmE-zF9"
      },
      "source": [
        "### **ACCURACY**"
      ]
    },
    {
      "cell_type": "code",
      "metadata": {
        "execution": {
          "iopub.status.busy": "2021-08-19T05:43:13.328466Z",
          "iopub.execute_input": "2021-08-19T05:43:13.328813Z",
          "iopub.status.idle": "2021-08-19T05:43:13.340017Z",
          "shell.execute_reply.started": "2021-08-19T05:43:13.328784Z",
          "shell.execute_reply": "2021-08-19T05:43:13.338694Z"
        },
        "trusted": true,
        "colab": {
          "base_uri": "https://localhost:8080/"
        },
        "id": "3mGJvCWc-zF9",
        "outputId": "3ccdf261-4e84-4b70-f364-2a0800c48ffb"
      },
      "source": [
        "(y_pred == y_test).values"
      ],
      "execution_count": 108,
      "outputs": [
        {
          "output_type": "execute_result",
          "data": {
            "text/plain": [
              "array([ True,  True,  True, False,  True,  True, False,  True, False,\n",
              "        True, False,  True,  True,  True,  True,  True,  True,  True,\n",
              "       False, False,  True,  True,  True,  True, False,  True,  True,\n",
              "       False,  True,  True,  True, False, False,  True,  True,  True,\n",
              "        True,  True,  True,  True,  True,  True,  True,  True,  True,\n",
              "        True,  True,  True,  True,  True,  True,  True,  True,  True,\n",
              "        True,  True,  True,  True,  True,  True,  True,  True,  True,\n",
              "        True,  True,  True, False,  True,  True,  True,  True, False,\n",
              "        True,  True,  True,  True, False, False,  True,  True,  True,\n",
              "        True,  True,  True,  True,  True,  True,  True,  True,  True,\n",
              "        True])"
            ]
          },
          "metadata": {},
          "execution_count": 108
        }
      ]
    },
    {
      "cell_type": "code",
      "metadata": {
        "execution": {
          "iopub.status.busy": "2021-08-19T05:43:13.341315Z",
          "iopub.execute_input": "2021-08-19T05:43:13.341643Z",
          "iopub.status.idle": "2021-08-19T05:43:13.354872Z",
          "shell.execute_reply.started": "2021-08-19T05:43:13.341613Z",
          "shell.execute_reply": "2021-08-19T05:43:13.354010Z"
        },
        "trusted": true,
        "colab": {
          "base_uri": "https://localhost:8080/"
        },
        "id": "IqB6R9zl-zF-",
        "outputId": "5a5f9b7a-85cc-42e7-f387-ceb282b93d40"
      },
      "source": [
        "np.mean(y_pred == y_test)"
      ],
      "execution_count": 109,
      "outputs": [
        {
          "output_type": "execute_result",
          "data": {
            "text/plain": [
              "0.8461538461538461"
            ]
          },
          "metadata": {},
          "execution_count": 109
        }
      ]
    },
    {
      "cell_type": "code",
      "metadata": {
        "execution": {
          "iopub.status.busy": "2021-08-19T05:43:13.356131Z",
          "iopub.execute_input": "2021-08-19T05:43:13.356432Z",
          "iopub.status.idle": "2021-08-19T05:43:13.364449Z",
          "shell.execute_reply.started": "2021-08-19T05:43:13.356403Z",
          "shell.execute_reply": "2021-08-19T05:43:13.363471Z"
        },
        "trusted": true,
        "id": "UaBAE2ev-zF-"
      },
      "source": [
        "from sklearn.metrics import confusion_matrix"
      ],
      "execution_count": 110,
      "outputs": []
    },
    {
      "cell_type": "code",
      "metadata": {
        "execution": {
          "iopub.status.busy": "2021-08-19T05:43:13.365645Z",
          "iopub.execute_input": "2021-08-19T05:43:13.365935Z",
          "iopub.status.idle": "2021-08-19T05:43:13.375416Z",
          "shell.execute_reply.started": "2021-08-19T05:43:13.365902Z",
          "shell.execute_reply": "2021-08-19T05:43:13.374346Z"
        },
        "trusted": true,
        "id": "5E82b1GK-zF_"
      },
      "source": [
        "accuracy=confusion_matrix(y_test,y_pred)"
      ],
      "execution_count": 111,
      "outputs": []
    },
    {
      "cell_type": "code",
      "metadata": {
        "execution": {
          "iopub.status.busy": "2021-08-19T05:43:13.376730Z",
          "iopub.execute_input": "2021-08-19T05:43:13.377064Z",
          "iopub.status.idle": "2021-08-19T05:43:13.387034Z",
          "shell.execute_reply.started": "2021-08-19T05:43:13.377027Z",
          "shell.execute_reply": "2021-08-19T05:43:13.386153Z"
        },
        "trusted": true,
        "colab": {
          "base_uri": "https://localhost:8080/"
        },
        "id": "b1CmViTy-zF_",
        "outputId": "059e47ff-e1cc-4849-9323-eb3d7ff31af9"
      },
      "source": [
        "accuracy"
      ],
      "execution_count": 112,
      "outputs": [
        {
          "output_type": "execute_result",
          "data": {
            "text/plain": [
              "array([[35,  6],\n",
              "       [ 8, 42]])"
            ]
          },
          "metadata": {},
          "execution_count": 112
        }
      ]
    },
    {
      "cell_type": "markdown",
      "metadata": {
        "id": "Sf5Lfxd7-zGA"
      },
      "source": [
        "### **TRAINING ACCURACY**"
      ]
    },
    {
      "cell_type": "code",
      "metadata": {
        "execution": {
          "iopub.status.busy": "2021-08-19T05:43:13.388269Z",
          "iopub.execute_input": "2021-08-19T05:43:13.388562Z",
          "iopub.status.idle": "2021-08-19T05:43:13.399665Z",
          "shell.execute_reply.started": "2021-08-19T05:43:13.388526Z",
          "shell.execute_reply": "2021-08-19T05:43:13.398752Z"
        },
        "trusted": true,
        "colab": {
          "base_uri": "https://localhost:8080/"
        },
        "id": "jUoLQzB_-zGA",
        "outputId": "a1dc3e5b-5f4d-4d5d-9c07-8b4eb04cb403"
      },
      "source": [
        "from sklearn.metrics import accuracy_score\n",
        "y_train_predict = model.predict(x_train)\n",
        "accuracy = accuracy_score(y_train,y_train_predict)*100 \n",
        "accuracy\n",
        "print(f'The accuracy (using accuracy_score) on training_data of our model is {round(accuracy, 2)}%')"
      ],
      "execution_count": 113,
      "outputs": [
        {
          "output_type": "stream",
          "text": [
            "The accuracy (using accuracy_score) on training_data of our model is 88.21%\n"
          ],
          "name": "stdout"
        }
      ]
    },
    {
      "cell_type": "markdown",
      "metadata": {
        "id": "LBMPJ4zX-zGB"
      },
      "source": [
        "### **TESTING ACCURACY**"
      ]
    },
    {
      "cell_type": "code",
      "metadata": {
        "execution": {
          "iopub.status.busy": "2021-08-19T05:43:13.401375Z",
          "iopub.execute_input": "2021-08-19T05:43:13.401755Z",
          "iopub.status.idle": "2021-08-19T05:43:13.412887Z",
          "shell.execute_reply.started": "2021-08-19T05:43:13.401716Z",
          "shell.execute_reply": "2021-08-19T05:43:13.411974Z"
        },
        "trusted": true,
        "colab": {
          "base_uri": "https://localhost:8080/"
        },
        "id": "-1NrrR6d-zGB",
        "outputId": "eb89c2e5-f0e0-4155-9300-f05b8ecd0fb2"
      },
      "source": [
        "from sklearn.metrics import accuracy_score\n",
        "y_test_predict =  model.predict(x_test)\n",
        "accuracy_score = accuracy_score(y_test,y_test_predict)*100 \n",
        "print(f'The accuracy on testing_data of our model is {round(accuracy_score, 2)}%')"
      ],
      "execution_count": 114,
      "outputs": [
        {
          "output_type": "stream",
          "text": [
            "The accuracy on testing_data of our model is 84.62%\n"
          ],
          "name": "stdout"
        }
      ]
    },
    {
      "cell_type": "markdown",
      "metadata": {
        "id": "I2PmQQ3_Ifee"
      },
      "source": [
        "**`This is nice accuracy you can say! Our model is predicting correctly!`**"
      ]
    },
    {
      "cell_type": "markdown",
      "metadata": {
        "id": "iUeI_0z8-zGC"
      },
      "source": [
        "### **CONFUSHION MATRIX**"
      ]
    },
    {
      "cell_type": "code",
      "metadata": {
        "execution": {
          "iopub.status.busy": "2021-08-19T05:43:13.414092Z",
          "iopub.execute_input": "2021-08-19T05:43:13.414370Z",
          "iopub.status.idle": "2021-08-19T05:43:13.428405Z",
          "shell.execute_reply.started": "2021-08-19T05:43:13.414343Z",
          "shell.execute_reply": "2021-08-19T05:43:13.427405Z"
        },
        "trusted": true,
        "colab": {
          "base_uri": "https://localhost:8080/"
        },
        "id": "2jNnO1rW-zGC",
        "outputId": "aec8607d-ac94-48b6-dc50-fab15881809d"
      },
      "source": [
        "from sklearn.metrics import classification_report\n",
        "print(f'Here is our classification report : \\n {classification_report(y_test,y_pred)}')"
      ],
      "execution_count": 115,
      "outputs": [
        {
          "output_type": "stream",
          "text": [
            "Here is our classification report : \n",
            "               precision    recall  f1-score   support\n",
            "\n",
            "           0       0.81      0.85      0.83        41\n",
            "           1       0.88      0.84      0.86        50\n",
            "\n",
            "    accuracy                           0.85        91\n",
            "   macro avg       0.84      0.85      0.85        91\n",
            "weighted avg       0.85      0.85      0.85        91\n",
            "\n"
          ],
          "name": "stdout"
        }
      ]
    },
    {
      "cell_type": "markdown",
      "metadata": {
        "id": "NmEpiwd_Is45"
      },
      "source": [
        "### **Creating Predictive Model :**\n",
        "\n",
        "`Let's predict whether our input's person has heart disease or not!`"
      ]
    },
    {
      "cell_type": "code",
      "metadata": {
        "colab": {
          "base_uri": "https://localhost:8080/"
        },
        "id": "r6K6F6xxIsYx",
        "outputId": "5883bd39-7ad1-4697-95fe-b8e29c05ea76"
      },
      "source": [
        "input_data = (0.952197,\t0.763956,\t-0.256334,\t0.015443,\t1.087338,\t0,\t1,\t1,\t1,\t0,\t1,\t0\t,0,\t1\t,0,\t0,\t0,\t0,\t1,\t0,\t0,\t0,0,1,0,1,0,1,1,0)\n",
        "\n",
        "\n",
        "input_data_as_numpy_array = np.asarray(input_data)\n",
        "\n",
        "input_data_reshape = input_data_as_numpy_array.reshape(1,-1)\n",
        "\n",
        "prediction = model.predict(input_data_reshape)\n",
        "\n",
        "\"\"\"\n",
        "z = np.array([\n",
        "\n",
        "    [1, 2, 3, 4],\n",
        " \n",
        "    [5, 6, 7, 8],\n",
        " \n",
        "    [9, 10, 11, 12]])\n",
        "\n",
        "z.shape == (3, 4)\n",
        "\n",
        "New shape as (1,-1). i.e, row is 1, column unknown. we get result new shape as (1, 12)\n",
        "\n",
        "z.reshape(1,-1)\n",
        "\n",
        "array([[ 1, 2, 3, 4, 5, 6, 7, 8, 9, 10, 11, 12]])\n",
        "\n",
        "('This upper code is for your understanding purpose!')\n",
        "\"\"\"\n",
        "\n",
        "\n",
        "if (prediction[0]==1):\n",
        "  print(\"He/She has heart disease!\")\n",
        "else :\n",
        "  print(\"He/She doesn't has heart disease!\")"
      ],
      "execution_count": 116,
      "outputs": [
        {
          "output_type": "stream",
          "text": [
            "He/She doesn't has heart disease!\n"
          ],
          "name": "stdout"
        }
      ]
    },
    {
      "cell_type": "markdown",
      "metadata": {
        "id": "6d5s7_XFARdl"
      },
      "source": [
        "## **THANK YOU! HAAAVE AAAA GREAT DAY! HOPE YOU ENJOYED MY PROJECT AND UNDERSTAND ALL THE THINGS! PLEASE CONSIDER A UPVOTE IN KAGGLE.**\n",
        "\n",
        "Here is the link of my **kaggle notebook** : [Notebook](https://www.kaggle.com/abhirup2000/heart-disease)\n",
        "\n",
        "\n",
        "`You can also find this notebook in my github profile :`\n",
        "\n",
        "**Github :** [Heart Disease Prediction](https://github.com/ImmatureAbhirup/Heart-Disease-Prediction-using-Machine-Learning)\n",
        "\n",
        "\n",
        "FOR MORE UPCOMING PROJECT YOU CAN FOLLOW ME TOO!\n",
        "\n"
      ]
    }
  ]
}